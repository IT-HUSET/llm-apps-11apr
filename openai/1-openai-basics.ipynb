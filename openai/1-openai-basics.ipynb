{
 "cells": [
  {
   "metadata": {},
   "cell_type": "markdown",
   "source": "# OpenAI Basics",
   "id": "9bd6e08cab38812a"
  },
  {
   "metadata": {},
   "cell_type": "markdown",
   "source": [
    "## Setup\n",
    "#### Load the API key and relevant Python libaries."
   ],
   "id": "a4dfe5b40c706c68"
  },
  {
   "cell_type": "code",
   "id": "initial_id",
   "metadata": {
    "collapsed": true
   },
   "source": [
    "%pip install --upgrade --quiet openai python-dotenv\n",
    "\n",
    "import openai\n",
    "import os\n",
    "\n",
    "from dotenv import load_dotenv, find_dotenv\n",
    "_ = load_dotenv(find_dotenv())\n",
    "\n",
    "openai.api_key  = os.getenv('OPENAI_API_KEY') "
   ],
   "outputs": [],
   "execution_count": null
  },
  {
   "metadata": {},
   "cell_type": "markdown",
   "source": "#### helper function",
   "id": "5da79b677ec76873"
  },
  {
   "metadata": {},
   "cell_type": "code",
   "source": [
    "client = openai.OpenAI()\n",
    "\n",
    "def get_completion(prompt, model=\"gpt-4-turbo-preview\"):\n",
    "    messages = [{\"role\": \"user\", \"content\": prompt}]\n",
    "    response = client.chat.completions.create(\n",
    "        model=model,\n",
    "        messages=messages,\n",
    "        # stop=[\"Paris\"], # stop the completion when the model generates the word \"Paris\"\n",
    "        # max_tokens=100, # maximum number of tokens to generate\n",
    "        temperature=1.0, # 0.0: deterministic, 1.0: more creative\n",
    "        #response_format=\"json\",\n",
    "    )\n",
    "    return response.choices[0].message.content"
   ],
   "id": "f52fc8f85314ef18",
   "outputs": [],
   "execution_count": null
  },
  {
   "metadata": {},
   "cell_type": "markdown",
   "source": "",
   "id": "de75c564a2c3f7cd"
  },
  {
   "metadata": {},
   "cell_type": "code",
   "source": [
    "question = \"What is the capital of France?\"\n",
    "prompt = f\"\"\"\n",
    "Be very funny when answering the questions below. \n",
    "\n",
    "Question from user, separated by ```:  \n",
    "```{question}```\n",
    "\"\"\"\n",
    "response = get_completion(prompt, model=\"gpt-4-turbo-preview\")\n",
    "print(response)"
   ],
   "id": "70b0b8f638266ef2",
   "outputs": [],
   "execution_count": null
  },
  {
   "metadata": {},
   "cell_type": "code",
   "source": "",
   "id": "926432ff4cf8afcb",
   "outputs": [],
   "execution_count": null
  }
 ],
 "metadata": {
  "kernelspec": {
   "display_name": "Python 3",
   "language": "python",
   "name": "python3"
  },
  "language_info": {
   "codemirror_mode": {
    "name": "ipython",
    "version": 2
   },
   "file_extension": ".py",
   "mimetype": "text/x-python",
   "name": "python",
   "nbconvert_exporter": "python",
   "pygments_lexer": "ipython2",
   "version": "2.7.6"
  }
 },
 "nbformat": 4,
 "nbformat_minor": 5
}
