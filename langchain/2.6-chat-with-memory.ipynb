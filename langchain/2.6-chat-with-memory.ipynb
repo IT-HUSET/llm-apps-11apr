{
 "cells": [
  {
   "metadata": {},
   "cell_type": "markdown",
   "source": "# Chat with memory",
   "id": "8c74d6748b7794f7"
  },
  {
   "metadata": {},
   "cell_type": "code",
   "source": "%pip install python-dotenv langchain langchain-openai chromadb docarray --upgrade --quiet",
   "id": "f2a82ec7d84be42c",
   "outputs": [],
   "execution_count": null
  },
  {
   "cell_type": "code",
   "id": "initial_id",
   "metadata": {
    "collapsed": true
   },
   "source": [
    "#import os\n",
    "#import openai\n",
    "import sys\n",
    "sys.path.append('../..')\n",
    "\n",
    "from dotenv import load_dotenv, find_dotenv\n",
    "_ = load_dotenv(find_dotenv()) # read local .env file\n",
    "\n",
    "#openai.api_key = os.environ['OPENAI_API_KEY']"
   ],
   "outputs": [],
   "execution_count": null
  },
  {
   "metadata": {},
   "cell_type": "markdown",
   "source": "### Debugging using LangSmith",
   "id": "815a01ea4c8f94af"
  },
  {
   "metadata": {},
   "cell_type": "code",
   "source": [
    "import os\n",
    "from uuid import uuid4\n",
    "\n",
    "unique_id = uuid4().hex[0:8]\n",
    "os.environ[\"LANGCHAIN_TRACING_V2\"] = \"true\"\n",
    "os.environ[\"LANGCHAIN_PROJECT\"] = f\"11 april - Chat with memory - {unique_id}\"\n",
    "os.environ[\"LANGCHAIN_ENDPOINT\"] = \"https://api.smith.langchain.com\"\n",
    "#os.environ[\"LANGCHAIN_API_KEY\"] = \"<YOUR-API-KEY>\"  # Update to your API key\n",
    "\n",
    "from langsmith import Client\n",
    "\n",
    "client = Client()"
   ],
   "id": "9c3a4c80ccc0523b",
   "outputs": [],
   "execution_count": null
  },
  {
   "metadata": {},
   "cell_type": "code",
   "source": [
    "from langchain.vectorstores import Chroma\n",
    "from langchain_openai import OpenAIEmbeddings\n",
    "persist_directory = '../db/chroma-step2.3/'\n",
    "embedding = OpenAIEmbeddings()\n",
    "vectordb = Chroma(persist_directory=persist_directory, embedding_function=embedding)"
   ],
   "id": "101ec93564cfeebe",
   "outputs": [],
   "execution_count": null
  },
  {
   "metadata": {},
   "cell_type": "code",
   "source": [
    "question = \"What are major topics for this class?\"\n",
    "docs = vectordb.similarity_search(question,k=3)\n",
    "len(docs)"
   ],
   "id": "53f2c83021cfa29f",
   "outputs": [],
   "execution_count": null
  },
  {
   "metadata": {},
   "cell_type": "code",
   "source": [
    "from langchain.chat_models import ChatOpenAI\n",
    "llm = ChatOpenAI(temperature=0)\n",
    "llm.predict(\"Hello world!\")"
   ],
   "id": "967d83ddc7988f8",
   "outputs": [],
   "execution_count": null
  },
  {
   "metadata": {},
   "cell_type": "code",
   "source": [
    "# Build prompt\n",
    "from langchain.prompts import PromptTemplate\n",
    "template = \"\"\"Use the following pieces of context to answer the question at the end. If you don't know the answer, just say that you don't know, don't try to make up an answer. Use three sentences maximum. Keep the answer as concise as possible. Always say \"thanks for asking!\" at the end of the answer. \n",
    "{context}\n",
    "Question: {question}\n",
    "Helpful Answer:\"\"\"\n",
    "QA_CHAIN_PROMPT = PromptTemplate(input_variables=[\"context\", \"question\"],template=template,)\n",
    "\n",
    "# Run chain\n",
    "from langchain.chains import RetrievalQA\n",
    "question = \"Is probability a class topic?\"\n",
    "qa_chain = RetrievalQA.from_chain_type(llm,\n",
    "                                       retriever=vectordb.as_retriever(),\n",
    "                                       return_source_documents=True,\n",
    "                                       chain_type_kwargs={\"prompt\": QA_CHAIN_PROMPT})\n",
    "\n",
    "\n",
    "result = qa_chain.invoke({\"query\": question})\n",
    "result[\"result\"]"
   ],
   "id": "acf39c008b7d84b5",
   "outputs": [],
   "execution_count": null
  },
  {
   "metadata": {},
   "cell_type": "markdown",
   "source": [
    "### Memory\n",
    "\n",
    "Here, were using a simple buffere memory, but there are many more memory types available in the `langchain.memory` module.\n",
    "See more here: https://python.langchain.com/docs/modules/memory/types/"
   ],
   "id": "f3fc754f6f4b7c7"
  },
  {
   "metadata": {},
   "cell_type": "code",
   "source": [
    "from langchain.memory import ConversationBufferMemory\n",
    "memory = ConversationBufferMemory(\n",
    "    memory_key=\"chat_history\", # key that can be referenced in prompts\n",
    "    return_messages=True\n",
    ")"
   ],
   "id": "31fe893655347684",
   "outputs": [],
   "execution_count": null
  },
  {
   "metadata": {},
   "cell_type": "markdown",
   "source": [
    "### ConversationalRetrievalChain\n",
    "\n",
    "This chain not only adds memory, but also a \"rephrase\"/\"condense\" step that conbines the history with the last question to create a standalone question that will be matched against the documents."
   ],
   "id": "7950ad03241b06b8"
  },
  {
   "metadata": {},
   "cell_type": "code",
   "source": [
    "from langchain.chains import ConversationalRetrievalChain\n",
    "retriever=vectordb.as_retriever()\n",
    "qa = ConversationalRetrievalChain.from_llm(\n",
    "    llm,\n",
    "    retriever=retriever,\n",
    "    memory=memory\n",
    ")\n"
   ],
   "id": "b1ee4969f7055157",
   "outputs": [],
   "execution_count": null
  },
  {
   "metadata": {},
   "cell_type": "code",
   "source": [
    "question = \"Is probability a class topic?\"\n",
    "result = qa({\"question\": question})"
   ],
   "id": "79bf7c71867ed171",
   "outputs": [],
   "execution_count": null
  },
  {
   "metadata": {},
   "cell_type": "code",
   "source": "result['answer']",
   "id": "591a841134bf427",
   "outputs": [],
   "execution_count": null
  },
  {
   "metadata": {},
   "cell_type": "code",
   "source": [
    "question = \"why are those prerequesites needed?\"\n",
    "result = qa({\"question\": question})\n",
    "\n",
    "result['answer']"
   ],
   "id": "ed7a9bda13a97b4a",
   "outputs": [],
   "execution_count": null
  },
  {
   "metadata": {},
   "cell_type": "markdown",
   "source": [
    "### Check it out what happens under the hoods in LangSmith\n",
    "\n",
    "https://smith.langchain.com/public/cbd48629-f2f9-4f13-816a-7b701bac9b83/r"
   ],
   "id": "b4a8408bc5f45e55"
  }
 ],
 "metadata": {
  "kernelspec": {
   "display_name": "Python 3",
   "language": "python",
   "name": "python3"
  },
  "language_info": {
   "codemirror_mode": {
    "name": "ipython",
    "version": 2
   },
   "file_extension": ".py",
   "mimetype": "text/x-python",
   "name": "python",
   "nbconvert_exporter": "python",
   "pygments_lexer": "ipython2",
   "version": "2.7.6"
  }
 },
 "nbformat": 4,
 "nbformat_minor": 5
}
