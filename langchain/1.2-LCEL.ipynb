{
 "cells": [
  {
   "cell_type": "markdown",
   "id": "fc925562",
   "metadata": {},
   "source": [
    "# 1.2 LangChain Expression Language (LCEL)\n",
    "(Modified version of lesson 2 of https://www.deeplearning.ai/short-courses/functions-tools-agents-langchain/)\n",
    "<br/><br/>"
   ]
  },
  {
   "metadata": {},
   "cell_type": "code",
   "outputs": [],
   "execution_count": null,
   "source": [
    "%pip install python-dotenv langchain langchain-openai docarray --upgrade --quiet\n",
    "%pip install pydantic==1.10.10 --upgrade --quiet\n",
    "\n",
    "#import os\n",
    "#import openai\n",
    "\n",
    "from dotenv import load_dotenv, find_dotenv\n",
    "_ = load_dotenv(find_dotenv()) # read local .env file\n",
    "#openai.api_key = os.environ['OPENAI_API_KEY']"
   ],
   "id": "6b741975b28b51b0"
  },
  {
   "cell_type": "code",
   "id": "fd55c0a0-ca4e-4311-a33c-fcebeb7d8b1e",
   "metadata": {
    "height": 64,
    "ExecuteTime": {
     "end_time": "2024-04-11T08:31:00.907545Z",
     "start_time": "2024-04-11T08:31:00.905849Z"
    }
   },
   "source": [
    "from langchain.prompts import ChatPromptTemplate\n",
    "from langchain.chat_models import ChatOpenAI\n",
    "from langchain.schema.output_parser import StrOutputParser"
   ],
   "outputs": [],
   "execution_count": 64
  },
  {
   "cell_type": "markdown",
   "id": "e99c432b-b2c9-497b-9912-c9ca4c1e3740",
   "metadata": {},
   "source": [
    "## Simple Chain"
   ]
  },
  {
   "cell_type": "code",
   "id": "6a0be20d-0e00-478c-a844-017cad13af22",
   "metadata": {
    "height": 98,
    "ExecuteTime": {
     "end_time": "2024-04-11T08:31:00.939907Z",
     "start_time": "2024-04-11T08:31:00.926682Z"
    }
   },
   "source": [
    "prompt = ChatPromptTemplate.from_template(\n",
    "    \"tell me a short joke about {topic}\"\n",
    ")\n",
    "model = ChatOpenAI()\n",
    "output_parser = StrOutputParser()"
   ],
   "outputs": [],
   "execution_count": 65
  },
  {
   "cell_type": "code",
   "id": "aedf1c1e-b697-47ce-9d81-eaec9192243b",
   "metadata": {
    "height": 30,
    "ExecuteTime": {
     "end_time": "2024-04-11T08:31:00.942884Z",
     "start_time": "2024-04-11T08:31:00.941036Z"
    }
   },
   "source": [
    "chain = prompt | model | output_parser"
   ],
   "outputs": [],
   "execution_count": 66
  },
  {
   "cell_type": "code",
   "id": "6df32028-d35f-4392-bb15-ddeec9ee09b5",
   "metadata": {
    "height": 30,
    "ExecuteTime": {
     "end_time": "2024-04-11T08:31:01.855195Z",
     "start_time": "2024-04-11T08:31:00.950735Z"
    }
   },
   "source": [
    "chain.invoke({\"topic\": \"bears\"})"
   ],
   "outputs": [
    {
     "data": {
      "text/plain": [
       "\"Why don't bears like fast food?\\n\\nBecause they can't catch it!\""
      ]
     },
     "execution_count": 67,
     "metadata": {},
     "output_type": "execute_result"
    }
   ],
   "execution_count": 67
  },
  {
   "cell_type": "markdown",
   "id": "d8ba33b5-2ae9-44d7-b023-18c903af571a",
   "metadata": {},
   "source": [
    "## More complex chain\n",
    "\n",
    "And Runnable Map to supply user-provided inputs to the prompt."
   ]
  },
  {
   "cell_type": "code",
   "id": "d036bb8e-8ca7-4dbd-8103-f50a3c8c3af9",
   "metadata": {
    "height": 47,
    "ExecuteTime": {
     "end_time": "2024-04-11T08:31:01.859042Z",
     "start_time": "2024-04-11T08:31:01.856763Z"
    }
   },
   "source": [
    "from langchain.embeddings import OpenAIEmbeddings\n",
    "from langchain.vectorstores import DocArrayInMemorySearch"
   ],
   "outputs": [],
   "execution_count": 68
  },
  {
   "cell_type": "code",
   "id": "8955cff7-f1a2-4f94-ab5b-fcdda0859702",
   "metadata": {
    "height": 113,
    "ExecuteTime": {
     "end_time": "2024-04-11T08:31:02.382707Z",
     "start_time": "2024-04-11T08:31:01.860319Z"
    }
   },
   "source": [
    "vectorstore = DocArrayInMemorySearch.from_texts(\n",
    "    [\"harrison worked at kensho\", \"bears like to eat honey\"],\n",
    "    embedding=OpenAIEmbeddings()\n",
    ")\n",
    "retriever = vectorstore.as_retriever()"
   ],
   "outputs": [],
   "execution_count": 69
  },
  {
   "cell_type": "code",
   "id": "2df87934-1697-405c-b460-5e9bfd16c792",
   "metadata": {
    "height": 30,
    "ExecuteTime": {
     "end_time": "2024-04-11T08:31:02.722325Z",
     "start_time": "2024-04-11T08:31:02.384774Z"
    }
   },
   "source": [
    "retriever.get_relevant_documents(\"where did harrison work?\")"
   ],
   "outputs": [
    {
     "data": {
      "text/plain": [
       "[Document(page_content='harrison worked at kensho'),\n",
       " Document(page_content='bears like to eat honey')]"
      ]
     },
     "execution_count": 70,
     "metadata": {},
     "output_type": "execute_result"
    }
   ],
   "execution_count": 70
  },
  {
   "cell_type": "code",
   "id": "871cb26b-97b3-4f63-8bb3-523d3e6d117b",
   "metadata": {
    "height": 45,
    "ExecuteTime": {
     "end_time": "2024-04-11T08:31:03.085005Z",
     "start_time": "2024-04-11T08:31:02.723189Z"
    }
   },
   "source": [
    "retriever.get_relevant_documents(\"what do bears like to eat\")"
   ],
   "outputs": [
    {
     "data": {
      "text/plain": [
       "[Document(page_content='bears like to eat honey'),\n",
       " Document(page_content='harrison worked at kensho')]"
      ]
     },
     "execution_count": 71,
     "metadata": {},
     "output_type": "execute_result"
    }
   ],
   "execution_count": 71
  },
  {
   "cell_type": "code",
   "id": "127a7fb6-5821-4934-ab56-9e3300516c05",
   "metadata": {
    "height": 130,
    "ExecuteTime": {
     "end_time": "2024-04-11T08:31:03.089023Z",
     "start_time": "2024-04-11T08:31:03.086560Z"
    }
   },
   "source": [
    "template = \"\"\"Answer the question based only on the following context:\n",
    "{context}\n",
    "\n",
    "Question: {question}\n",
    "\"\"\"\n",
    "prompt = ChatPromptTemplate.from_template(template)"
   ],
   "outputs": [],
   "execution_count": 72
  },
  {
   "cell_type": "code",
   "id": "4ec01c56-731c-4e4f-a5f6-493fba953db0",
   "metadata": {
    "height": 30,
    "ExecuteTime": {
     "end_time": "2024-04-11T08:31:03.092638Z",
     "start_time": "2024-04-11T08:31:03.090498Z"
    }
   },
   "source": [
    "from langchain.schema.runnable import RunnableMap"
   ],
   "outputs": [],
   "execution_count": 73
  },
  {
   "cell_type": "code",
   "id": "a9ca6506-826f-4420-8f19-25dd4dbbc1dc",
   "metadata": {
    "height": 96,
    "ExecuteTime": {
     "end_time": "2024-04-11T08:31:03.096144Z",
     "start_time": "2024-04-11T08:31:03.093951Z"
    }
   },
   "source": [
    "chain = RunnableMap({\n",
    "    \"context\": lambda x: retriever.get_relevant_documents(x[\"question\"]),\n",
    "    \"question\": lambda x: x[\"question\"]\n",
    "}) | prompt | model | output_parser"
   ],
   "outputs": [],
   "execution_count": 74
  },
  {
   "cell_type": "code",
   "id": "707d1319-8840-4ed5-b4a4-a2a128799db6",
   "metadata": {
    "height": 30,
    "ExecuteTime": {
     "end_time": "2024-04-11T08:31:04.480510Z",
     "start_time": "2024-04-11T08:31:03.097038Z"
    }
   },
   "source": [
    "chain.invoke({\"question\": \"where did harrison work?\"})"
   ],
   "outputs": [
    {
     "data": {
      "text/plain": [
       "'Harrison worked at Kensho.'"
      ]
     },
     "execution_count": 75,
     "metadata": {},
     "output_type": "execute_result"
    }
   ],
   "execution_count": 75
  },
  {
   "cell_type": "code",
   "id": "05ec3727-4284-417e-9e23-eec0682eb002",
   "metadata": {
    "height": 96,
    "ExecuteTime": {
     "end_time": "2024-04-11T08:31:04.485470Z",
     "start_time": "2024-04-11T08:31:04.483226Z"
    }
   },
   "source": [
    "inputs = RunnableMap({\n",
    "    \"context\": lambda x: retriever.get_relevant_documents(x[\"question\"]),\n",
    "    \"question\": lambda x: x[\"question\"]\n",
    "})"
   ],
   "outputs": [],
   "execution_count": 76
  },
  {
   "cell_type": "code",
   "id": "4216c7ab-6d1b-4f2a-98dc-5d2ace23e3c2",
   "metadata": {
    "height": 30,
    "ExecuteTime": {
     "end_time": "2024-04-11T08:31:04.740817Z",
     "start_time": "2024-04-11T08:31:04.486636Z"
    }
   },
   "source": [
    "inputs.invoke({\"question\": \"where did harrison work?\"})"
   ],
   "outputs": [
    {
     "data": {
      "text/plain": [
       "{'context': [Document(page_content='harrison worked at kensho'),\n",
       "  Document(page_content='bears like to eat honey')],\n",
       " 'question': 'where did harrison work?'}"
      ]
     },
     "execution_count": 77,
     "metadata": {},
     "output_type": "execute_result"
    }
   ],
   "execution_count": 77
  },
  {
   "cell_type": "markdown",
   "id": "eec59c3b-33e7-437f-9b8b-b4652bc3b863",
   "metadata": {},
   "source": [
    "## Bind\n",
    "\n",
    "and OpenAI Functions"
   ]
  },
  {
   "cell_type": "code",
   "id": "f3efed3b-6d4c-42a4-9692-0cc4596f530b",
   "metadata": {
    "height": 300,
    "ExecuteTime": {
     "end_time": "2024-04-11T08:31:04.743887Z",
     "start_time": "2024-04-11T08:31:04.741745Z"
    }
   },
   "source": [
    "functions = [\n",
    "    {\n",
    "      \"name\": \"weather_search\",\n",
    "      \"description\": \"Search for weather given an airport code\",\n",
    "      \"parameters\": {\n",
    "        \"type\": \"object\",\n",
    "        \"properties\": {\n",
    "          \"airport_code\": {\n",
    "            \"type\": \"string\",\n",
    "            \"description\": \"The airport code to get the weather for\"\n",
    "          },\n",
    "        },\n",
    "        \"required\": [\"airport_code\"]\n",
    "      }\n",
    "    }\n",
    "  ]"
   ],
   "outputs": [],
   "execution_count": 78
  },
  {
   "cell_type": "code",
   "id": "f8be4721-91d2-4ae6-8fdb-e91dc6ac1bc5",
   "metadata": {
    "height": 115,
    "ExecuteTime": {
     "end_time": "2024-04-11T08:31:04.759837Z",
     "start_time": "2024-04-11T08:31:04.744872Z"
    }
   },
   "source": [
    "prompt = ChatPromptTemplate.from_messages(\n",
    "    [\n",
    "        (\"human\", \"{input}\")\n",
    "    ]\n",
    ")\n",
    "model = ChatOpenAI(temperature=0).bind(functions=functions)"
   ],
   "outputs": [],
   "execution_count": 79
  },
  {
   "cell_type": "code",
   "id": "e61b095d-9934-41b8-a794-a9dd57e9c733",
   "metadata": {
    "height": 30,
    "ExecuteTime": {
     "end_time": "2024-04-11T08:31:04.762090Z",
     "start_time": "2024-04-11T08:31:04.760458Z"
    }
   },
   "source": [
    "runnable = prompt | model"
   ],
   "outputs": [],
   "execution_count": 80
  },
  {
   "cell_type": "code",
   "id": "a638efeb-b5ce-4aa4-8377-3e86597a03ab",
   "metadata": {
    "height": 30,
    "ExecuteTime": {
     "end_time": "2024-04-11T08:31:05.414048Z",
     "start_time": "2024-04-11T08:31:04.762755Z"
    }
   },
   "source": [
    "runnable.invoke({\"input\": \"what is the weather in sf\"})"
   ],
   "outputs": [
    {
     "data": {
      "text/plain": [
       "AIMessage(content='', additional_kwargs={'function_call': {'arguments': '{\"airport_code\":\"SFO\"}', 'name': 'weather_search'}}, response_metadata={'token_usage': {'completion_tokens': 16, 'prompt_tokens': 64, 'total_tokens': 80}, 'model_name': 'gpt-3.5-turbo', 'system_fingerprint': 'fp_b28b39ffa8', 'finish_reason': 'function_call', 'logprobs': None}, id='run-df5a08de-39ff-4512-a185-b31ca2763eb6-0')"
      ]
     },
     "execution_count": 81,
     "metadata": {},
     "output_type": "execute_result"
    }
   ],
   "execution_count": 81
  },
  {
   "cell_type": "code",
   "id": "3a22faf5-ea24-48d2-b028-03733b548225",
   "metadata": {
    "height": 538,
    "ExecuteTime": {
     "end_time": "2024-04-11T08:31:05.418059Z",
     "start_time": "2024-04-11T08:31:05.415209Z"
    }
   },
   "source": [
    "functions = [\n",
    "    {\n",
    "      \"name\": \"weather_search\",\n",
    "      \"description\": \"Search for weather given an airport code\",\n",
    "      \"parameters\": {\n",
    "        \"type\": \"object\",\n",
    "        \"properties\": {\n",
    "          \"airport_code\": {\n",
    "            \"type\": \"string\",\n",
    "            \"description\": \"The airport code to get the weather for\"\n",
    "          },\n",
    "        },\n",
    "        \"required\": [\"airport_code\"]\n",
    "      }\n",
    "    },\n",
    "        {\n",
    "      \"name\": \"sports_search\",\n",
    "      \"description\": \"Search for news of recent sport events\",\n",
    "      \"parameters\": {\n",
    "        \"type\": \"object\",\n",
    "        \"properties\": {\n",
    "          \"team_name\": {\n",
    "            \"type\": \"string\",\n",
    "            \"description\": \"The sports team to search for\"\n",
    "          },\n",
    "        },\n",
    "        \"required\": [\"team_name\"]\n",
    "      }\n",
    "    }\n",
    "  ]"
   ],
   "outputs": [],
   "execution_count": 82
  },
  {
   "cell_type": "code",
   "id": "eb43b030-459f-47e8-a27d-96c2d70cdfef",
   "metadata": {
    "height": 30,
    "ExecuteTime": {
     "end_time": "2024-04-11T08:31:05.422510Z",
     "start_time": "2024-04-11T08:31:05.419103Z"
    }
   },
   "source": [
    "model = model.bind(functions=functions)"
   ],
   "outputs": [],
   "execution_count": 83
  },
  {
   "cell_type": "code",
   "id": "3ff03e0d-d6c6-4b47-815e-d7ea5b248567",
   "metadata": {
    "height": 30,
    "ExecuteTime": {
     "end_time": "2024-04-11T08:31:05.425630Z",
     "start_time": "2024-04-11T08:31:05.423622Z"
    }
   },
   "source": [
    "runnable = prompt | model"
   ],
   "outputs": [],
   "execution_count": 84
  },
  {
   "cell_type": "code",
   "id": "03855fa3-5e2f-4ab2-aba0-c2cd5423239e",
   "metadata": {
    "height": 45,
    "ExecuteTime": {
     "end_time": "2024-04-11T08:31:06.436170Z",
     "start_time": "2024-04-11T08:31:05.426369Z"
    }
   },
   "source": [
    "runnable.invoke({\"input\": \"how did the patriots do yesterday?\"})"
   ],
   "outputs": [
    {
     "data": {
      "text/plain": [
       "AIMessage(content='', additional_kwargs={'function_call': {'arguments': '{\"team_name\":\"New England Patriots\"}', 'name': 'sports_search'}}, response_metadata={'token_usage': {'completion_tokens': 18, 'prompt_tokens': 99, 'total_tokens': 117}, 'model_name': 'gpt-3.5-turbo', 'system_fingerprint': 'fp_b28b39ffa8', 'finish_reason': 'function_call', 'logprobs': None}, id='run-bb54bb03-2f87-4bcb-8ca3-6dadbbbeab7a-0')"
      ]
     },
     "execution_count": 85,
     "metadata": {},
     "output_type": "execute_result"
    }
   ],
   "execution_count": 85
  },
  {
   "cell_type": "markdown",
   "id": "bebc0c55-48c2-4105-90ec-7297553b8e6a",
   "metadata": {},
   "source": [
    "## Fallbacks"
   ]
  },
  {
   "cell_type": "code",
   "id": "aa0b1ea2-7aef-4449-a553-426cb8c5aa30",
   "metadata": {
    "height": 47,
    "ExecuteTime": {
     "end_time": "2024-04-11T08:31:06.439848Z",
     "start_time": "2024-04-11T08:31:06.437398Z"
    }
   },
   "source": [
    "from langchain.llms import OpenAI\n",
    "import json"
   ],
   "outputs": [],
   "execution_count": 86
  },
  {
   "cell_type": "markdown",
   "id": "bef73d77-9cac-419a-9583-8aefc6c9277b",
   "metadata": {},
   "source": [
    "**Note**: Due to the deprecation of OpenAI's model `text-davinci-001` on 4 January 2024, you'll be using OpenAI's recommended replacement model `gpt-3.5-turbo-instruct` instead."
   ]
  },
  {
   "cell_type": "code",
   "id": "df432efe-9415-42e3-ab57-ecf4d439f369",
   "metadata": {
    "height": 115,
    "ExecuteTime": {
     "end_time": "2024-04-11T08:31:06.455781Z",
     "start_time": "2024-04-11T08:31:06.440691Z"
    }
   },
   "source": [
    "simple_model = OpenAI(\n",
    "    temperature=0, \n",
    "    max_tokens=1000, \n",
    "    model=\"gpt-3.5-turbo-instruct\"\n",
    ")\n",
    "simple_chain = simple_model | json.loads"
   ],
   "outputs": [],
   "execution_count": 87
  },
  {
   "cell_type": "code",
   "id": "441928c5-8712-45c5-bfdf-6f51634198a7",
   "metadata": {
    "height": 45,
    "ExecuteTime": {
     "end_time": "2024-04-11T08:31:06.458961Z",
     "start_time": "2024-04-11T08:31:06.456877Z"
    }
   },
   "source": [
    "challenge = \"write three poems in a json blob, where each poem is a json blob of a title, author, and first line\""
   ],
   "outputs": [],
   "execution_count": 88
  },
  {
   "cell_type": "code",
   "id": "0739e85f-8497-4471-8ec9-17e958d80771",
   "metadata": {
    "height": 30,
    "ExecuteTime": {
     "end_time": "2024-04-11T08:31:08.146907Z",
     "start_time": "2024-04-11T08:31:06.459661Z"
    }
   },
   "source": [
    "simple_model.invoke(challenge)"
   ],
   "outputs": [
    {
     "data": {
      "text/plain": [
       "'\\n\\n{\\n    \"title\": \"Autumn Leaves\",\\n    \"author\": \"Emily Dickinson\",\\n    \"first_line\": \"The leaves are falling, one by one\"\\n}\\n\\n{\\n    \"title\": \"The Ocean\\'s Song\",\\n    \"author\": \"Pablo Neruda\",\\n    \"first_line\": \"I hear the ocean\\'s song, a symphony of waves\"\\n}\\n\\n{\\n    \"title\": \"A Winter\\'s Night\",\\n    \"author\": \"Robert Frost\",\\n    \"first_line\": \"The snow falls softly, covering the ground\"\\n}'"
      ]
     },
     "execution_count": 89,
     "metadata": {},
     "output_type": "execute_result"
    }
   ],
   "execution_count": 89
  },
  {
   "cell_type": "markdown",
   "id": "3a20d15c-dc8a-4b6d-a423-a5f814425219",
   "metadata": {},
   "source": "**Note**: The next line is expected to fail, since the model is too basic."
  },
  {
   "cell_type": "code",
   "id": "2a5e8492-0927-4a3a-b939-947826246330",
   "metadata": {
    "height": 30,
    "ExecuteTime": {
     "end_time": "2024-04-11T08:31:08.149617Z",
     "start_time": "2024-04-11T08:31:08.147790Z"
    }
   },
   "source": "simple_chain.invoke(challenge) # EXPECTED TO FAIL",
   "outputs": [],
   "execution_count": 90
  },
  {
   "metadata": {},
   "cell_type": "markdown",
   "source": "### Try using a more advanced (chat) model instead",
   "id": "427f1a4c939b5581"
  },
  {
   "cell_type": "code",
   "id": "6814143b-4a35-4d29-bd32-ba461274bcbf",
   "metadata": {
    "height": 47,
    "ExecuteTime": {
     "end_time": "2024-04-11T08:31:08.167415Z",
     "start_time": "2024-04-11T08:31:08.150480Z"
    }
   },
   "source": [
    "model = ChatOpenAI(temperature=0)\n",
    "chain = model | StrOutputParser() | json.loads"
   ],
   "outputs": [],
   "execution_count": 91
  },
  {
   "cell_type": "code",
   "id": "f55f04cf-0217-4106-b41f-0e0661d12c27",
   "metadata": {
    "height": 30,
    "ExecuteTime": {
     "end_time": "2024-04-11T08:31:10.301018Z",
     "start_time": "2024-04-11T08:31:08.168167Z"
    }
   },
   "source": [
    "chain.invoke(challenge)"
   ],
   "outputs": [
    {
     "data": {
      "text/plain": [
       "{'poem1': {'title': 'The Rose',\n",
       "  'author': 'Emily Dickinson',\n",
       "  'firstLine': 'A rose by any other name would smell as sweet'},\n",
       " 'poem2': {'title': 'The Road Not Taken',\n",
       "  'author': 'Robert Frost',\n",
       "  'firstLine': 'Two roads diverged in a yellow wood'},\n",
       " 'poem3': {'title': 'Hope is the Thing with Feathers',\n",
       "  'author': 'Emily Dickinson',\n",
       "  'firstLine': 'Hope is the thing with feathers'}}"
      ]
     },
     "execution_count": 92,
     "metadata": {},
     "output_type": "execute_result"
    }
   ],
   "execution_count": 92
  },
  {
   "metadata": {},
   "cell_type": "markdown",
   "source": "### Using a fallback for the simpler chain",
   "id": "948ac408214eda43"
  },
  {
   "cell_type": "code",
   "id": "b5d3f035-b18d-4cba-854d-a43ef8554e48",
   "metadata": {
    "height": 30,
    "ExecuteTime": {
     "end_time": "2024-04-11T08:31:10.304029Z",
     "start_time": "2024-04-11T08:31:10.302241Z"
    }
   },
   "source": [
    "final_chain = simple_chain.with_fallbacks([chain])"
   ],
   "outputs": [],
   "execution_count": 93
  },
  {
   "cell_type": "code",
   "id": "9a09fe6a-548c-412d-9468-9efe2b49f7c9",
   "metadata": {
    "height": 30,
    "ExecuteTime": {
     "end_time": "2024-04-11T08:31:14.459839Z",
     "start_time": "2024-04-11T08:31:10.310840Z"
    }
   },
   "source": [
    "final_chain.invoke(challenge)"
   ],
   "outputs": [
    {
     "data": {
      "text/plain": [
       "{'poem1': {'title': 'The Rose',\n",
       "  'author': 'Emily Dickinson',\n",
       "  'firstLine': 'A rose is a rose is a rose'},\n",
       " 'poem2': {'title': 'The Road Not Taken',\n",
       "  'author': 'Robert Frost',\n",
       "  'firstLine': 'Two roads diverged in a yellow wood'},\n",
       " 'poem3': {'title': 'Hope is the Thing with Feathers',\n",
       "  'author': 'Emily Dickinson',\n",
       "  'firstLine': 'Hope is the thing with feathers'}}"
      ]
     },
     "execution_count": 94,
     "metadata": {},
     "output_type": "execute_result"
    }
   ],
   "execution_count": 94
  },
  {
   "cell_type": "markdown",
   "id": "3fcfdda0-3db2-4073-a647-f2d62c460349",
   "metadata": {},
   "source": [
    "## Interface"
   ]
  },
  {
   "cell_type": "code",
   "id": "33b3b27f-b5a0-4db5-a1b0-20754437a47e",
   "metadata": {
    "height": 132,
    "ExecuteTime": {
     "end_time": "2024-04-11T08:31:14.481415Z",
     "start_time": "2024-04-11T08:31:14.460956Z"
    }
   },
   "source": [
    "prompt = ChatPromptTemplate.from_template(\n",
    "    \"Tell me a short joke about {topic}\"\n",
    ")\n",
    "model = ChatOpenAI()\n",
    "output_parser = StrOutputParser()\n",
    "\n",
    "chain = prompt | model | output_parser"
   ],
   "outputs": [],
   "execution_count": 95
  },
  {
   "cell_type": "code",
   "id": "48c8cabf-ea55-4448-b070-3ec22942c559",
   "metadata": {
    "height": 30,
    "ExecuteTime": {
     "end_time": "2024-04-11T08:31:15.653246Z",
     "start_time": "2024-04-11T08:31:14.482134Z"
    }
   },
   "source": [
    "chain.invoke({\"topic\": \"bears\"})"
   ],
   "outputs": [
    {
     "data": {
      "text/plain": [
       "'Why did the bear bring a flashlight to the party? Because he was afraid of the dark!'"
      ]
     },
     "execution_count": 96,
     "metadata": {},
     "output_type": "execute_result"
    }
   ],
   "execution_count": 96
  },
  {
   "cell_type": "code",
   "id": "cc58bdb4-a896-46ba-90c4-1b333245229a",
   "metadata": {
    "height": 30,
    "ExecuteTime": {
     "end_time": "2024-04-11T08:31:16.551382Z",
     "start_time": "2024-04-11T08:31:15.654251Z"
    }
   },
   "source": [
    "chain.batch([{\"topic\": \"bears\"}, {\"topic\": \"frogs\"}])"
   ],
   "outputs": [
    {
     "data": {
      "text/plain": [
       "[\"Why did the bear break up with his girlfriend? \\n\\nBecause he couldn't bear the relationship anymore!\",\n",
       " 'Why are frogs so happy? Because they eat whatever bugs them!']"
      ]
     },
     "execution_count": 97,
     "metadata": {},
     "output_type": "execute_result"
    }
   ],
   "execution_count": 97
  },
  {
   "cell_type": "code",
   "id": "8a069d61-0a67-4368-b7c4-367262267bb8",
   "metadata": {
    "height": 47,
    "ExecuteTime": {
     "end_time": "2024-04-11T08:31:17.586774Z",
     "start_time": "2024-04-11T08:31:16.552832Z"
    }
   },
   "source": [
    "for t in chain.stream({\"topic\": \"bears\"}):\n",
    "    print(t)"
   ],
   "outputs": [
    {
     "name": "stdout",
     "output_type": "stream",
     "text": [
      "\n",
      "Why\n",
      " did\n",
      " the\n",
      " bear\n",
      " break\n",
      " up\n",
      " with\n",
      " his\n",
      " girlfriend\n",
      "?\n",
      " \n",
      "\n",
      "\n",
      "Because\n",
      " he\n",
      " couldn\n",
      "'t\n",
      " bear\n",
      " the\n",
      " relationship\n",
      " any\n",
      " longer\n",
      "!\n",
      "\n"
     ]
    }
   ],
   "execution_count": 98
  },
  {
   "cell_type": "code",
   "id": "2315b43f-c7e1-4f7b-9595-4cabdc019dea",
   "metadata": {
    "height": 47,
    "ExecuteTime": {
     "end_time": "2024-04-11T08:31:19.161881Z",
     "start_time": "2024-04-11T08:31:17.587905Z"
    }
   },
   "source": [
    "response = await chain.ainvoke({\"topic\": \"bears\"})\n",
    "response"
   ],
   "outputs": [
    {
     "data": {
      "text/plain": [
       "'Why did the bear bring a flashlight to the party? \\n\\nBecause he heard it was going to be a \"beary\" good time!'"
      ]
     },
     "execution_count": 99,
     "metadata": {},
     "output_type": "execute_result"
    }
   ],
   "execution_count": 99
  },
  {
   "cell_type": "code",
   "id": "f3082379-f75e-4a74-bee5-c18ddc5ac4dc",
   "metadata": {
    "height": 30,
    "ExecuteTime": {
     "end_time": "2024-04-11T08:31:19.163838Z",
     "start_time": "2024-04-11T08:31:19.162490Z"
    }
   },
   "source": [],
   "outputs": [],
   "execution_count": 99
  },
  {
   "cell_type": "code",
   "id": "adccca48-787e-4219-af82-f18e6408182b",
   "metadata": {
    "height": 30,
    "ExecuteTime": {
     "end_time": "2024-04-11T08:31:19.166346Z",
     "start_time": "2024-04-11T08:31:19.164639Z"
    }
   },
   "source": [],
   "outputs": [],
   "execution_count": 99
  },
  {
   "cell_type": "code",
   "id": "5c816827-e5b7-480a-826b-0ca715faca3c",
   "metadata": {
    "height": 30,
    "ExecuteTime": {
     "end_time": "2024-04-11T08:31:19.168387Z",
     "start_time": "2024-04-11T08:31:19.167082Z"
    }
   },
   "source": [],
   "outputs": [],
   "execution_count": 99
  },
  {
   "cell_type": "code",
   "id": "15e6d608-c205-4141-bab8-0304dd910978",
   "metadata": {
    "height": 30,
    "ExecuteTime": {
     "end_time": "2024-04-11T08:31:19.170373Z",
     "start_time": "2024-04-11T08:31:19.169002Z"
    }
   },
   "source": [],
   "outputs": [],
   "execution_count": 99
  },
  {
   "cell_type": "code",
   "id": "abfc490d-090d-4e1c-b8ee-bf40ec4da4c3",
   "metadata": {
    "height": 30,
    "ExecuteTime": {
     "end_time": "2024-04-11T08:31:19.172367Z",
     "start_time": "2024-04-11T08:31:19.170988Z"
    }
   },
   "source": [],
   "outputs": [],
   "execution_count": 99
  },
  {
   "cell_type": "code",
   "id": "5fe48ff0-fd84-4c9e-8069-02117d57f7f0",
   "metadata": {
    "height": 30,
    "ExecuteTime": {
     "end_time": "2024-04-11T08:31:19.174181Z",
     "start_time": "2024-04-11T08:31:19.172984Z"
    }
   },
   "source": [],
   "outputs": [],
   "execution_count": 99
  }
 ],
 "metadata": {
  "kernelspec": {
   "display_name": "Python 3 (ipykernel)",
   "language": "python",
   "name": "python3"
  },
  "language_info": {
   "codemirror_mode": {
    "name": "ipython",
    "version": 3
   },
   "file_extension": ".py",
   "mimetype": "text/x-python",
   "name": "python",
   "nbconvert_exporter": "python",
   "pygments_lexer": "ipython3",
   "version": "3.9.18"
  }
 },
 "nbformat": 4,
 "nbformat_minor": 5
}
