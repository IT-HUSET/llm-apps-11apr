{
 "cells": [
  {
   "metadata": {},
   "cell_type": "markdown",
   "source": "# 2.5 Question & Answering",
   "id": "943ea36a1082641e"
  },
  {
   "metadata": {},
   "cell_type": "code",
   "outputs": [],
   "execution_count": null,
   "source": "%pip install python-dotenv langchain langchain-openai chromadb docarray --upgrade --quiet",
   "id": "85deea8cffa90385"
  },
  {
   "metadata": {},
   "cell_type": "markdown",
   "source": [
    "We discussed `Document Loading` and `Splitting` as well as `Storage` and `Retrieval`.\n",
    "\n",
    "Let's load our vectorDB. "
   ],
   "id": "f3bd1965176d16fc"
  },
  {
   "metadata": {
    "ExecuteTime": {
     "end_time": "2024-04-11T06:48:25.025991Z",
     "start_time": "2024-04-11T06:48:25.021837Z"
    }
   },
   "cell_type": "code",
   "source": [
    "#import os\n",
    "#import openai\n",
    "import sys\n",
    "sys.path.append('../..')\n",
    "\n",
    "from dotenv import load_dotenv, find_dotenv\n",
    "_ = load_dotenv(find_dotenv()) # read local .env file\n",
    "\n",
    "#openai.api_key  = os.environ['OPENAI_API_KEY']"
   ],
   "id": "1bfd8e7e18c145ae",
   "outputs": [],
   "execution_count": 27
  },
  {
   "metadata": {
    "ExecuteTime": {
     "end_time": "2024-04-11T06:38:28.926612Z",
     "start_time": "2024-04-11T06:38:28.771848Z"
    }
   },
   "cell_type": "code",
   "source": [
    "from langchain.vectorstores import Chroma\n",
    "from langchain_openai import OpenAIEmbeddings\n",
    "persist_directory = '../db/chroma-step2.3/'\n",
    "embedding = OpenAIEmbeddings()\n",
    "vectordb = Chroma(persist_directory=persist_directory, embedding_function=embedding)"
   ],
   "id": "522653aabd8bc7a4",
   "outputs": [],
   "execution_count": 4
  },
  {
   "metadata": {
    "ExecuteTime": {
     "end_time": "2024-04-11T06:38:31.108049Z",
     "start_time": "2024-04-11T06:38:31.105426Z"
    }
   },
   "cell_type": "code",
   "source": "print(vectordb._collection.count())",
   "id": "58985b34dd50ba7",
   "outputs": [
    {
     "name": "stdout",
     "output_type": "stream",
     "text": [
      "209\n"
     ]
    }
   ],
   "execution_count": 5
  },
  {
   "metadata": {
    "ExecuteTime": {
     "end_time": "2024-04-11T06:38:49.786958Z",
     "start_time": "2024-04-11T06:38:48.878501Z"
    }
   },
   "cell_type": "code",
   "source": [
    "question = \"What are major topics for this class?\"\n",
    "docs = vectordb.similarity_search(question,k=3)\n",
    "len(docs)"
   ],
   "id": "2149ee7c35c12b0",
   "outputs": [
    {
     "data": {
      "text/plain": [
       "3"
      ]
     },
     "execution_count": 6,
     "metadata": {},
     "output_type": "execute_result"
    }
   ],
   "execution_count": 6
  },
  {
   "metadata": {
    "ExecuteTime": {
     "end_time": "2024-04-11T06:39:27.572830Z",
     "start_time": "2024-04-11T06:39:27.553942Z"
    }
   },
   "cell_type": "code",
   "source": [
    "from langchain_openai import ChatOpenAI\n",
    "\n",
    "llm = ChatOpenAI(model_name=\"gpt-3.5-turbo\", temperature=0)"
   ],
   "id": "60caf670926df6de",
   "outputs": [],
   "execution_count": 9
  },
  {
   "metadata": {},
   "cell_type": "markdown",
   "source": "### RetrievalQA chain",
   "id": "3f793332685cd31a"
  },
  {
   "metadata": {
    "ExecuteTime": {
     "end_time": "2024-04-11T06:40:10.586855Z",
     "start_time": "2024-04-11T06:40:10.433311Z"
    }
   },
   "cell_type": "code",
   "source": [
    "from langchain.chains import RetrievalQA\n",
    "\n",
    "qa_chain = RetrievalQA.from_chain_type(\n",
    "    llm,\n",
    "    retriever=vectordb.as_retriever()\n",
    ")"
   ],
   "id": "d5e055290e6210df",
   "outputs": [],
   "execution_count": 10
  },
  {
   "metadata": {
    "ExecuteTime": {
     "end_time": "2024-04-11T06:40:24.419239Z",
     "start_time": "2024-04-11T06:40:22.744024Z"
    }
   },
   "cell_type": "code",
   "source": "result = qa_chain.invoke({\"query\": question})",
   "id": "76e971446695d82f",
   "outputs": [],
   "execution_count": 13
  },
  {
   "metadata": {
    "ExecuteTime": {
     "end_time": "2024-04-11T06:40:25.612157Z",
     "start_time": "2024-04-11T06:40:25.608735Z"
    }
   },
   "cell_type": "code",
   "source": "result[\"result\"]",
   "id": "ea57c7f46c6d93d5",
   "outputs": [
    {
     "data": {
      "text/plain": [
       "'The major topics for this class include machine learning, statistics, and algebra. Additionally, there will be discussions on extensions of the material covered in the main lectures.'"
      ]
     },
     "execution_count": 14,
     "metadata": {},
     "output_type": "execute_result"
    }
   ],
   "execution_count": 14
  },
  {
   "metadata": {},
   "cell_type": "markdown",
   "source": "### Prompt",
   "id": "9586e5c7b990ae0e"
  },
  {
   "metadata": {
    "ExecuteTime": {
     "end_time": "2024-04-11T06:41:04.529113Z",
     "start_time": "2024-04-11T06:41:04.514568Z"
    }
   },
   "cell_type": "code",
   "source": [
    "from langchain.prompts import PromptTemplate\n",
    "\n",
    "# Build prompt\n",
    "template = \"\"\"Use the following pieces of context to answer the question at the end. If you don't know the answer, just say that you don't know, don't try to make up an answer. Use three sentences maximum. Keep the answer as concise as possible. Always say \"thanks for asking!\" at the end of the answer. \n",
    "{context}\n",
    "Question: {question}\n",
    "Helpful Answer:\"\"\"\n",
    "QA_CHAIN_PROMPT = PromptTemplate.from_template(template)\n"
   ],
   "id": "648cec5d45827242",
   "outputs": [],
   "execution_count": 15
  },
  {
   "metadata": {
    "ExecuteTime": {
     "end_time": "2024-04-11T06:41:05.531249Z",
     "start_time": "2024-04-11T06:41:05.512515Z"
    }
   },
   "cell_type": "code",
   "source": [
    "# Run chain\n",
    "qa_chain = RetrievalQA.from_chain_type(\n",
    "    llm,\n",
    "    retriever=vectordb.as_retriever(),\n",
    "    return_source_documents=True,\n",
    "    chain_type_kwargs={\"prompt\": QA_CHAIN_PROMPT}\n",
    ")"
   ],
   "id": "ceb03ec6f26c643f",
   "outputs": [],
   "execution_count": 16
  },
  {
   "metadata": {
    "ExecuteTime": {
     "end_time": "2024-04-11T06:41:06.222270Z",
     "start_time": "2024-04-11T06:41:06.219262Z"
    }
   },
   "cell_type": "code",
   "source": "question = \"Is probability a class topic?\"",
   "id": "b21226307cc72b82",
   "outputs": [],
   "execution_count": 17
  },
  {
   "metadata": {
    "ExecuteTime": {
     "end_time": "2024-04-11T06:41:08.453856Z",
     "start_time": "2024-04-11T06:41:06.893369Z"
    }
   },
   "cell_type": "code",
   "source": "result = qa_chain({\"query\": question})",
   "id": "58245b263e4b0f1f",
   "outputs": [],
   "execution_count": 18
  },
  {
   "metadata": {
    "ExecuteTime": {
     "end_time": "2024-04-11T06:41:08.457059Z",
     "start_time": "2024-04-11T06:41:08.454757Z"
    }
   },
   "cell_type": "code",
   "source": "result[\"result\"]",
   "id": "74eedc34d62f9252",
   "outputs": [
    {
     "data": {
      "text/plain": [
       "'Yes, probability is a class topic as the instructor assumes familiarity with basic probability and statistics. Thanks for asking!'"
      ]
     },
     "execution_count": 19,
     "metadata": {},
     "output_type": "execute_result"
    }
   ],
   "execution_count": 19
  },
  {
   "metadata": {
    "ExecuteTime": {
     "end_time": "2024-04-11T06:41:08.459673Z",
     "start_time": "2024-04-11T06:41:08.457548Z"
    }
   },
   "cell_type": "code",
   "source": "result[\"source_documents\"][0]",
   "id": "259e86f7e0b859a3",
   "outputs": [
    {
     "data": {
      "text/plain": [
       "Document(page_content=\"of this class will not be very program ming intensive, although we will do some \\nprogramming, mostly in either MATLAB or Octa ve. I'll say a bit more about that later.  \\nI also assume familiarity with basic proba bility and statistics. So most undergraduate \\nstatistics class, like Stat 116 taught here at Stanford, will be more than enough. I'm gonna \\nassume all of you know what ra ndom variables are, that all of you know what expectation \\nis, what a variance or a random variable is. And in case of some of you, it's been a while \\nsince you've seen some of this material. At some of the discussion sections, we'll actually \\ngo over some of the prerequisites, sort of as  a refresher course under prerequisite class. \\nI'll say a bit more about that later as well.  \\nLastly, I also assume familiarity with basi c linear algebra. And again, most undergraduate \\nlinear algebra courses are more than enough. So if you've taken courses like Math 51, \\n103, Math 113 or CS205 at Stanford, that would be more than enough. Basically, I'm \\ngonna assume that all of you know what matrix es and vectors are, that you know how to \\nmultiply matrices and vectors and multiply matrix and matrices, that you know what a matrix inverse is. If you know what an eigenvect or of a matrix is, that'd be even better. \\nBut if you don't quite know or if you're not qu ite sure, that's fine, too. We'll go over it in \\nthe review sections.\", metadata={'page': 4, 'source': '../data/MachineLearning-Lecture01.pdf'})"
      ]
     },
     "execution_count": 20,
     "metadata": {},
     "output_type": "execute_result"
    }
   ],
   "execution_count": 20
  },
  {
   "metadata": {},
   "cell_type": "markdown",
   "source": "### RetrievalQA chain types",
   "id": "c7969c771f3ff184"
  },
  {
   "metadata": {
    "ExecuteTime": {
     "end_time": "2024-04-11T06:42:48.726873Z",
     "start_time": "2024-04-11T06:42:48.722758Z"
    }
   },
   "cell_type": "code",
   "source": [
    "qa_chain_mr = RetrievalQA.from_chain_type(\n",
    "    llm,\n",
    "    retriever=vectordb.as_retriever(),\n",
    "    chain_type=\"map_reduce\"\n",
    ")"
   ],
   "id": "18db898baeb8bf6f",
   "outputs": [],
   "execution_count": 21
  },
  {
   "metadata": {
    "ExecuteTime": {
     "end_time": "2024-04-11T06:42:57.038050Z",
     "start_time": "2024-04-11T06:42:49.782288Z"
    }
   },
   "cell_type": "code",
   "source": [
    "result = qa_chain_mr({\"query\": question})\n",
    "\n",
    "result[\"result\"]"
   ],
   "id": "a95e316fa07de2c3",
   "outputs": [
    {
     "data": {
      "text/plain": [
       "'Yes, probability is a class topic mentioned in the text provided.'"
      ]
     },
     "execution_count": 22,
     "metadata": {},
     "output_type": "execute_result"
    }
   ],
   "execution_count": 22
  },
  {
   "metadata": {},
   "cell_type": "markdown",
   "source": "### Debugging using LangSmith",
   "id": "9793aef66515ab64"
  },
  {
   "metadata": {
    "ExecuteTime": {
     "end_time": "2024-04-11T06:48:30.989623Z",
     "start_time": "2024-04-11T06:48:30.984704Z"
    }
   },
   "cell_type": "code",
   "source": [
    "import os\n",
    "from uuid import uuid4\n",
    "\n",
    "unique_id = uuid4().hex[0:8]\n",
    "os.environ[\"LANGCHAIN_TRACING_V2\"] = \"true\"\n",
    "os.environ[\"LANGCHAIN_PROJECT\"] = f\"11 april - Q&A - {unique_id}\"\n",
    "os.environ[\"LANGCHAIN_ENDPOINT\"] = \"https://api.smith.langchain.com\"\n",
    "#os.environ[\"LANGCHAIN_API_KEY\"] = \"<YOUR-API-KEY>\"  # Update to your API key\n",
    "\n",
    "from langsmith import Client\n",
    "\n",
    "client = Client()"
   ],
   "id": "cb993cc83cfd1ce3",
   "outputs": [],
   "execution_count": 28
  },
  {
   "metadata": {
    "ExecuteTime": {
     "end_time": "2024-04-11T06:48:39.856836Z",
     "start_time": "2024-04-11T06:48:32.526476Z"
    }
   },
   "cell_type": "code",
   "source": [
    "qa_chain_mr = RetrievalQA.from_chain_type(\n",
    "    llm,\n",
    "    retriever=vectordb.as_retriever(),\n",
    "    chain_type=\"map_reduce\"\n",
    ")\n",
    "result = qa_chain_mr({\"query\": question})\n",
    "result[\"result\"]"
   ],
   "id": "59c7f2e03ebfb7d8",
   "outputs": [
    {
     "data": {
      "text/plain": [
       "'Yes, probability is a class topic mentioned in the document.'"
      ]
     },
     "execution_count": 29,
     "metadata": {},
     "output_type": "execute_result"
    }
   ],
   "execution_count": 29
  },
  {
   "metadata": {},
   "cell_type": "markdown",
   "source": "Example trace: https://smith.langchain.com/public/a7ff69e5-a260-4248-bce3-2c3521e4b240/r",
   "id": "b49330ee48c8fff6"
  },
  {
   "metadata": {
    "ExecuteTime": {
     "end_time": "2024-04-11T06:49:51.722447Z",
     "start_time": "2024-04-11T06:49:45.552081Z"
    }
   },
   "cell_type": "code",
   "source": [
    "qa_chain_mr = RetrievalQA.from_chain_type(\n",
    "    llm,\n",
    "    retriever=vectordb.as_retriever(),\n",
    "    chain_type=\"refine\"\n",
    ")\n",
    "result = qa_chain_mr({\"query\": question})\n",
    "result[\"result\"]"
   ],
   "id": "601b44d06ce31e21",
   "outputs": [
    {
     "data": {
      "text/plain": [
       "'Based on the additional context provided, it seems that probability may not be a specific class topic but could be covered as part of the broader subjects of statistics or algebra. The discussion sections may also touch on extensions related to machine learning. Therefore, while probability may not be explicitly mentioned as a class topic, it could be included in the discussions or extensions of the main lectures.'"
      ]
     },
     "execution_count": 30,
     "metadata": {},
     "output_type": "execute_result"
    }
   ],
   "execution_count": 30
  },
  {
   "metadata": {},
   "cell_type": "markdown",
   "source": "Example trace: https://smith.langchain.com/public/6b294a26-9246-4722-a473-c00dba1e6574/r",
   "id": "39dceaedf1c6ecba"
  },
  {
   "metadata": {},
   "cell_type": "markdown",
   "source": [
    "### RetrievalQA limitations\n",
    " \n",
    "QA *fails* to preserve conversational history."
   ],
   "id": "9c765db31964b9a9"
  },
  {
   "metadata": {
    "ExecuteTime": {
     "end_time": "2024-04-11T06:51:56.209236Z",
     "start_time": "2024-04-11T06:51:56.207346Z"
    }
   },
   "cell_type": "code",
   "source": [
    "qa_chain = RetrievalQA.from_chain_type(\n",
    "    llm,\n",
    "    retriever=vectordb.as_retriever()\n",
    ")"
   ],
   "id": "ad544f16f5077ca",
   "outputs": [],
   "execution_count": 31
  },
  {
   "metadata": {
    "ExecuteTime": {
     "end_time": "2024-04-11T06:51:59.069740Z",
     "start_time": "2024-04-11T06:51:57.273185Z"
    }
   },
   "cell_type": "code",
   "source": [
    "question = \"Is probability a class topic?\"\n",
    "result = qa_chain({\"query\": question})\n",
    "result[\"result\"]"
   ],
   "id": "5c59fc1165519887",
   "outputs": [
    {
     "data": {
      "text/plain": [
       "'Yes, probability is a topic covered in the class. The instructor assumes familiarity with basic probability and statistics.'"
      ]
     },
     "execution_count": 32,
     "metadata": {},
     "output_type": "execute_result"
    }
   ],
   "execution_count": 32
  },
  {
   "metadata": {
    "ExecuteTime": {
     "end_time": "2024-04-11T06:52:02.755635Z",
     "start_time": "2024-04-11T06:52:00.211125Z"
    }
   },
   "cell_type": "code",
   "source": [
    "question = \"why are those prerequesites needed?\"\n",
    "result = qa_chain({\"query\": question})\n",
    "result[\"result\"]"
   ],
   "id": "e0b4073658bdc581",
   "outputs": [
    {
     "data": {
      "text/plain": [
       "'The prerequisites of basic computer science knowledge, probability and statistics, and basic linear algebra are needed for the machine learning class because they form the foundational knowledge required to understand and apply machine learning algorithms effectively. Understanding computer science principles helps in programming and implementing algorithms, while knowledge of probability and statistics is essential for understanding the mathematical concepts behind machine learning models. Basic linear algebra is necessary for operations involving matrices and vectors, which are fundamental in machine learning algorithms.'"
      ]
     },
     "execution_count": 33,
     "metadata": {},
     "output_type": "execute_result"
    }
   ],
   "execution_count": 33
  },
  {
   "metadata": {},
   "cell_type": "markdown",
   "source": "Note, The LLM response varies. Some responses **do** include a reference to probability which might be gleaned from referenced documents. The point is simply that the model does not have access to past questions or answers, this will be covered in the next section.",
   "id": "de25c25f470ebcbd"
  },
  {
   "metadata": {},
   "cell_type": "markdown",
   "source": "*Next step will add memory*",
   "id": "c82127f599d2969d"
  }
 ],
 "metadata": {
  "kernelspec": {
   "display_name": "Python 3",
   "language": "python",
   "name": "python3"
  },
  "language_info": {
   "codemirror_mode": {
    "name": "ipython",
    "version": 2
   },
   "file_extension": ".py",
   "mimetype": "text/x-python",
   "name": "python",
   "nbconvert_exporter": "python",
   "pygments_lexer": "ipython2",
   "version": "2.7.6"
  }
 },
 "nbformat": 4,
 "nbformat_minor": 5
}
