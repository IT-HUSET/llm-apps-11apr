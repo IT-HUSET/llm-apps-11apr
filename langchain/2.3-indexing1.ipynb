{
 "cells": [
  {
   "cell_type": "markdown",
   "id": "0d647f70",
   "metadata": {},
   "source": "# 2.3 Vectorstores and Embeddings - part 1\n"
  },
  {
   "metadata": {},
   "cell_type": "code",
   "source": "%pip install python-dotenv langchain langchain-openai chromadb docarray --upgrade --quiet",
   "id": "ec75a5bfe0241597",
   "outputs": [],
   "execution_count": null
  },
  {
   "cell_type": "code",
   "id": "7f8d2266-4a35-4904-ae9d-c89790c5ae61",
   "metadata": {
    "height": 166,
    "tags": []
   },
   "source": [
    "#import os\n",
    "#import openai\n",
    "import sys\n",
    "#sys.path.append('../')\n",
    "\n",
    "from dotenv import load_dotenv, find_dotenv\n",
    "_ = load_dotenv(find_dotenv()) # read local .env file\n",
    "\n",
    "#openai.api_key  = os.environ['OPENAI_API_KEY']"
   ],
   "outputs": [],
   "execution_count": null
  },
  {
   "cell_type": "markdown",
   "id": "460a54b0",
   "metadata": {},
   "source": [
    "We just discussed `Document Loading` and `Splitting`."
   ]
  },
  {
   "cell_type": "code",
   "id": "2437469e",
   "metadata": {
    "height": 234,
    "tags": []
   },
   "source": [
    "from langchain.document_loaders import PyPDFLoader\n",
    "\n",
    "# Load PDF\n",
    "loaders = [\n",
    "    # Duplicate documents on purpose - messy data\n",
    "    PyPDFLoader(\"../data/MachineLearning-Lecture01.pdf\"),\n",
    "    PyPDFLoader(\"../data/MachineLearning-Lecture01.pdf\"),\n",
    "    PyPDFLoader(\"../data/MachineLearning-Lecture02.pdf\"),\n",
    "    PyPDFLoader(\"../data/MachineLearning-Lecture03.pdf\")\n",
    "]\n",
    "docs = []\n",
    "for loader in loaders:\n",
    "    docs.extend(loader.load())"
   ],
   "outputs": [],
   "execution_count": null
  },
  {
   "cell_type": "code",
   "id": "eb44bf0d",
   "metadata": {
    "height": 115,
    "tags": []
   },
   "source": [
    "# Split\n",
    "from langchain.text_splitter import RecursiveCharacterTextSplitter\n",
    "text_splitter = RecursiveCharacterTextSplitter(\n",
    "    chunk_size = 1500,\n",
    "    chunk_overlap = 150\n",
    ")"
   ],
   "outputs": [],
   "execution_count": null
  },
  {
   "cell_type": "code",
   "id": "b71e46cc",
   "metadata": {
    "height": 30,
    "tags": []
   },
   "source": [
    "splits = text_splitter.split_documents(docs)"
   ],
   "outputs": [],
   "execution_count": null
  },
  {
   "cell_type": "code",
   "id": "e061f22d",
   "metadata": {
    "height": 30,
    "tags": []
   },
   "source": [
    "len(splits)"
   ],
   "outputs": [],
   "execution_count": null
  },
  {
   "cell_type": "markdown",
   "id": "848e26fd",
   "metadata": {},
   "source": [
    "## Embeddings\n",
    "\n",
    "Let's take our splits and embed them."
   ]
  },
  {
   "metadata": {},
   "cell_type": "code",
   "source": "#!pip install -U langchain-openai",
   "id": "fe10157f0209247c",
   "outputs": [],
   "execution_count": null
  },
  {
   "cell_type": "code",
   "id": "d9dca7a8",
   "metadata": {
    "height": 47,
    "tags": []
   },
   "source": [
    "from langchain_openai import OpenAIEmbeddings\n",
    "embedding = OpenAIEmbeddings()"
   ],
   "outputs": [],
   "execution_count": null
  },
  {
   "cell_type": "code",
   "id": "c4099521",
   "metadata": {
    "height": 64,
    "tags": []
   },
   "source": [
    "sentence1 = \"i like dogs\"\n",
    "sentence2 = \"i like canines\"\n",
    "sentence3 = \"the weather is ugly outside\""
   ],
   "outputs": [],
   "execution_count": null
  },
  {
   "cell_type": "code",
   "id": "d553549a",
   "metadata": {
    "height": 64,
    "tags": []
   },
   "source": [
    "embedding1 = embedding.embed_query(sentence1)\n",
    "embedding2 = embedding.embed_query(sentence2)\n",
    "embedding3 = embedding.embed_query(sentence3)"
   ],
   "outputs": [],
   "execution_count": null
  },
  {
   "cell_type": "code",
   "id": "0cbe9a9e",
   "metadata": {
    "height": 30,
    "tags": []
   },
   "source": [
    "import numpy as np"
   ],
   "outputs": [],
   "execution_count": null
  },
  {
   "metadata": {},
   "cell_type": "markdown",
   "source": "Embedding 1 and 3 should be similar",
   "id": "b1477c3e20377f29"
  },
  {
   "cell_type": "code",
   "id": "49fc0f8f",
   "metadata": {
    "height": 30,
    "tags": []
   },
   "source": [
    "np.dot(embedding1, embedding2)"
   ],
   "outputs": [],
   "execution_count": null
  },
  {
   "metadata": {},
   "cell_type": "markdown",
   "source": "But Embedding 2 should differ more",
   "id": "5f16c9e6a51b5ef0"
  },
  {
   "cell_type": "code",
   "id": "32a1fac7",
   "metadata": {
    "height": 30,
    "tags": []
   },
   "source": [
    "np.dot(embedding1, embedding3)"
   ],
   "outputs": [],
   "execution_count": null
  },
  {
   "cell_type": "code",
   "id": "9dd18328",
   "metadata": {
    "height": 30,
    "tags": []
   },
   "source": [
    "np.dot(embedding2, embedding3)"
   ],
   "outputs": [],
   "execution_count": null
  },
  {
   "cell_type": "markdown",
   "id": "4fc7b24f",
   "metadata": {},
   "source": [
    "## Vectorstores"
   ]
  },
  {
   "cell_type": "code",
   "id": "da2213e6",
   "metadata": {
    "height": 30,
    "tags": []
   },
   "source": [
    "# ! pip install chromadb"
   ],
   "outputs": [],
   "execution_count": null
  },
  {
   "cell_type": "code",
   "id": "201e6afa",
   "metadata": {
    "height": 30,
    "tags": []
   },
   "source": [
    "from langchain.vectorstores import Chroma"
   ],
   "outputs": [],
   "execution_count": null
  },
  {
   "cell_type": "code",
   "id": "93960ac5",
   "metadata": {
    "height": 30,
    "tags": []
   },
   "source": "persist_directory = '../db/chroma-step2.3/'",
   "outputs": [],
   "execution_count": null
  },
  {
   "cell_type": "code",
   "id": "a195e72a",
   "metadata": {
    "height": 30,
    "tags": []
   },
   "source": "!rm -rf ../db/chroma-step2.3  # remove old database files if any",
   "outputs": [],
   "execution_count": null
  },
  {
   "cell_type": "code",
   "id": "690efd0a",
   "metadata": {
    "height": 98,
    "tags": []
   },
   "source": [
    "vectordb = Chroma.from_documents(\n",
    "    documents=splits,\n",
    "    embedding=embedding,\n",
    "    persist_directory=persist_directory\n",
    ")"
   ],
   "outputs": [],
   "execution_count": null
  },
  {
   "cell_type": "code",
   "id": "f777480c",
   "metadata": {
    "height": 30,
    "tags": []
   },
   "source": [
    "print(vectordb._collection.count())"
   ],
   "outputs": [],
   "execution_count": null
  },
  {
   "cell_type": "markdown",
   "id": "efca7589",
   "metadata": {},
   "source": [
    "### Similarity Search"
   ]
  },
  {
   "cell_type": "code",
   "id": "3e20837d",
   "metadata": {
    "height": 30,
    "tags": []
   },
   "source": [
    "question = \"is there an email i can ask for help\""
   ],
   "outputs": [],
   "execution_count": null
  },
  {
   "cell_type": "code",
   "id": "f9bde572",
   "metadata": {
    "height": 30,
    "tags": []
   },
   "source": [
    "docs = vectordb.similarity_search(question,k=3)"
   ],
   "outputs": [],
   "execution_count": null
  },
  {
   "cell_type": "code",
   "id": "41388af1",
   "metadata": {
    "height": 30,
    "tags": []
   },
   "source": [
    "len(docs)"
   ],
   "outputs": [],
   "execution_count": null
  },
  {
   "cell_type": "code",
   "id": "183434f6",
   "metadata": {
    "height": 30,
    "tags": []
   },
   "source": [
    "docs[0].page_content"
   ],
   "outputs": [],
   "execution_count": null
  },
  {
   "cell_type": "markdown",
   "id": "1edb21d8",
   "metadata": {},
   "source": [
    "Let's save this so we can use it later!"
   ]
  },
  {
   "cell_type": "code",
   "id": "ea657123",
   "metadata": {
    "height": 30,
    "tags": []
   },
   "source": [
    "vectordb.persist()"
   ],
   "outputs": [],
   "execution_count": null
  },
  {
   "cell_type": "markdown",
   "id": "cefe9f6a",
   "metadata": {},
   "source": [
    "## Failure modes\n",
    "\n",
    "This seems great, and basic similarity search will get you 80% of the way there very easily. \n",
    "\n",
    "But there are some failure modes that can creep up. \n",
    "\n",
    "Here are some edge cases that can arise - we'll fix them in the next class."
   ]
  },
  {
   "cell_type": "code",
   "id": "df0f29f9",
   "metadata": {
    "height": 30,
    "tags": []
   },
   "source": [
    "question = \"what did they say about matlab?\""
   ],
   "outputs": [],
   "execution_count": null
  },
  {
   "cell_type": "code",
   "id": "02be97df",
   "metadata": {
    "height": 30,
    "tags": []
   },
   "source": [
    "docs = vectordb.similarity_search(question,k=5)"
   ],
   "outputs": [],
   "execution_count": null
  },
  {
   "cell_type": "markdown",
   "id": "2a9f579e",
   "metadata": {},
   "source": [
    "Notice that we're getting duplicate chunks (because of the duplicate `MachineLearning-Lecture01.pdf` in the index).\n",
    "\n",
    "Semantic search fetches all similar documents, but does not enforce diversity.\n",
    "\n",
    "`docs[0]` and `docs[1]` are indentical."
   ]
  },
  {
   "cell_type": "code",
   "id": "d39f6954",
   "metadata": {
    "height": 30,
    "tags": []
   },
   "source": [
    "docs[0]"
   ],
   "outputs": [],
   "execution_count": null
  },
  {
   "cell_type": "code",
   "id": "e04e3d1b",
   "metadata": {
    "height": 30,
    "tags": []
   },
   "source": [
    "docs[1]"
   ],
   "outputs": [],
   "execution_count": null
  },
  {
   "cell_type": "markdown",
   "id": "3a3a915d",
   "metadata": {},
   "source": [
    "We can see a new failure mode.\n",
    "\n",
    "The question below asks a question about the third lecture, but includes results from other lectures as well."
   ]
  },
  {
   "cell_type": "code",
   "id": "b19135e5",
   "metadata": {
    "height": 30,
    "tags": []
   },
   "source": [
    "question = \"what did they say about regression in the third lecture?\""
   ],
   "outputs": [],
   "execution_count": null
  },
  {
   "cell_type": "code",
   "id": "d434942c",
   "metadata": {
    "height": 30,
    "tags": []
   },
   "source": [
    "docs = vectordb.similarity_search(question,k=5)"
   ],
   "outputs": [],
   "execution_count": null
  },
  {
   "cell_type": "code",
   "id": "c2c5df59",
   "metadata": {
    "height": 47,
    "tags": []
   },
   "source": [
    "for doc in docs:\n",
    "    print(doc.metadata)"
   ],
   "outputs": [],
   "execution_count": null
  },
  {
   "cell_type": "code",
   "id": "8e6cb50c",
   "metadata": {
    "height": 30,
    "tags": []
   },
   "source": [
    "print(docs[4].page_content)"
   ],
   "outputs": [],
   "execution_count": null
  },
  {
   "cell_type": "markdown",
   "id": "c3dbca56",
   "metadata": {},
   "source": [
    "Approaches discussed in the next lecture can be used to address both!"
   ]
  },
  {
   "metadata": {},
   "cell_type": "code",
   "source": "",
   "id": "4fea851248012b87",
   "outputs": [],
   "execution_count": null
  }
 ],
 "metadata": {
  "kernelspec": {
   "display_name": "Python 3 (ipykernel)",
   "language": "python",
   "name": "python3"
  },
  "language_info": {
   "codemirror_mode": {
    "name": "ipython",
    "version": 3
   },
   "file_extension": ".py",
   "mimetype": "text/x-python",
   "name": "python",
   "nbconvert_exporter": "python",
   "pygments_lexer": "ipython3",
   "version": "3.9.17"
  }
 },
 "nbformat": 4,
 "nbformat_minor": 5
}
