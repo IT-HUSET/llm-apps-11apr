{
 "cells": [
  {
   "cell_type": "markdown",
   "id": "0d647f70",
   "metadata": {},
   "source": "# 2.3 Vectorstores and Embeddings - part 1\n"
  },
  {
   "metadata": {},
   "cell_type": "code",
   "outputs": [],
   "execution_count": null,
   "source": "%pip install python-dotenv langchain langchain-openai chromadb docarray --upgrade --quiet",
   "id": "ec75a5bfe0241597"
  },
  {
   "cell_type": "code",
   "id": "7f8d2266-4a35-4904-ae9d-c89790c5ae61",
   "metadata": {
    "height": 166,
    "tags": [],
    "ExecuteTime": {
     "end_time": "2024-04-11T05:56:57.595973Z",
     "start_time": "2024-04-11T05:56:57.592008Z"
    }
   },
   "source": [
    "#import os\n",
    "#import openai\n",
    "import sys\n",
    "#sys.path.append('../')\n",
    "\n",
    "from dotenv import load_dotenv, find_dotenv\n",
    "_ = load_dotenv(find_dotenv()) # read local .env file\n",
    "\n",
    "#openai.api_key  = os.environ['OPENAI_API_KEY']"
   ],
   "outputs": [],
   "execution_count": 26
  },
  {
   "cell_type": "markdown",
   "id": "460a54b0",
   "metadata": {},
   "source": [
    "We just discussed `Document Loading` and `Splitting`."
   ]
  },
  {
   "cell_type": "code",
   "id": "2437469e",
   "metadata": {
    "height": 234,
    "tags": [],
    "ExecuteTime": {
     "end_time": "2024-04-11T05:56:57.957131Z",
     "start_time": "2024-04-11T05:56:57.692850Z"
    }
   },
   "source": [
    "from langchain.document_loaders import PyPDFLoader\n",
    "\n",
    "# Load PDF\n",
    "loaders = [\n",
    "    # Duplicate documents on purpose - messy data\n",
    "    PyPDFLoader(\"../data/MachineLearning-Lecture01.pdf\"),\n",
    "    PyPDFLoader(\"../data/MachineLearning-Lecture01.pdf\"),\n",
    "    PyPDFLoader(\"../data/MachineLearning-Lecture02.pdf\"),\n",
    "    PyPDFLoader(\"../data/MachineLearning-Lecture03.pdf\")\n",
    "]\n",
    "docs = []\n",
    "for loader in loaders:\n",
    "    docs.extend(loader.load())"
   ],
   "outputs": [],
   "execution_count": 27
  },
  {
   "cell_type": "code",
   "id": "eb44bf0d",
   "metadata": {
    "height": 115,
    "tags": [],
    "ExecuteTime": {
     "end_time": "2024-04-11T05:56:57.959776Z",
     "start_time": "2024-04-11T05:56:57.958020Z"
    }
   },
   "source": [
    "# Split\n",
    "from langchain.text_splitter import RecursiveCharacterTextSplitter\n",
    "text_splitter = RecursiveCharacterTextSplitter(\n",
    "    chunk_size = 1500,\n",
    "    chunk_overlap = 150\n",
    ")"
   ],
   "outputs": [],
   "execution_count": 28
  },
  {
   "cell_type": "code",
   "id": "b71e46cc",
   "metadata": {
    "height": 30,
    "tags": [],
    "ExecuteTime": {
     "end_time": "2024-04-11T05:56:57.965653Z",
     "start_time": "2024-04-11T05:56:57.960436Z"
    }
   },
   "source": [
    "splits = text_splitter.split_documents(docs)"
   ],
   "outputs": [],
   "execution_count": 29
  },
  {
   "cell_type": "code",
   "id": "e061f22d",
   "metadata": {
    "height": 30,
    "tags": [],
    "ExecuteTime": {
     "end_time": "2024-04-11T05:56:57.969207Z",
     "start_time": "2024-04-11T05:56:57.966950Z"
    }
   },
   "source": [
    "len(splits)"
   ],
   "outputs": [
    {
     "data": {
      "text/plain": [
       "209"
      ]
     },
     "execution_count": 30,
     "metadata": {},
     "output_type": "execute_result"
    }
   ],
   "execution_count": 30
  },
  {
   "cell_type": "markdown",
   "id": "848e26fd",
   "metadata": {},
   "source": [
    "## Embeddings\n",
    "\n",
    "Let's take our splits and embed them."
   ]
  },
  {
   "metadata": {
    "ExecuteTime": {
     "end_time": "2024-04-11T05:56:57.971042Z",
     "start_time": "2024-04-11T05:56:57.969726Z"
    }
   },
   "cell_type": "code",
   "source": "#!pip install -U langchain-openai",
   "id": "fe10157f0209247c",
   "outputs": [],
   "execution_count": 31
  },
  {
   "cell_type": "code",
   "id": "d9dca7a8",
   "metadata": {
    "height": 47,
    "tags": [],
    "ExecuteTime": {
     "end_time": "2024-04-11T05:56:57.986376Z",
     "start_time": "2024-04-11T05:56:57.971677Z"
    }
   },
   "source": [
    "from langchain_openai import OpenAIEmbeddings\n",
    "embedding = OpenAIEmbeddings()"
   ],
   "outputs": [],
   "execution_count": 32
  },
  {
   "cell_type": "code",
   "id": "c4099521",
   "metadata": {
    "height": 64,
    "tags": [],
    "ExecuteTime": {
     "end_time": "2024-04-11T05:56:57.988572Z",
     "start_time": "2024-04-11T05:56:57.987067Z"
    }
   },
   "source": [
    "sentence1 = \"i like dogs\"\n",
    "sentence2 = \"i like canines\"\n",
    "sentence3 = \"the weather is ugly outside\""
   ],
   "outputs": [],
   "execution_count": 33
  },
  {
   "cell_type": "code",
   "id": "d553549a",
   "metadata": {
    "height": 64,
    "tags": [],
    "ExecuteTime": {
     "end_time": "2024-04-11T05:56:58.682277Z",
     "start_time": "2024-04-11T05:56:57.989120Z"
    }
   },
   "source": [
    "embedding1 = embedding.embed_query(sentence1)\n",
    "embedding2 = embedding.embed_query(sentence2)\n",
    "embedding3 = embedding.embed_query(sentence3)"
   ],
   "outputs": [],
   "execution_count": 34
  },
  {
   "cell_type": "code",
   "id": "0cbe9a9e",
   "metadata": {
    "height": 30,
    "tags": [],
    "ExecuteTime": {
     "end_time": "2024-04-11T05:56:58.685854Z",
     "start_time": "2024-04-11T05:56:58.683421Z"
    }
   },
   "source": [
    "import numpy as np"
   ],
   "outputs": [],
   "execution_count": 35
  },
  {
   "metadata": {},
   "cell_type": "markdown",
   "source": "Embedding 1 and 3 should be similar",
   "id": "b1477c3e20377f29"
  },
  {
   "cell_type": "code",
   "id": "49fc0f8f",
   "metadata": {
    "height": 30,
    "tags": [],
    "ExecuteTime": {
     "end_time": "2024-04-11T05:56:58.692390Z",
     "start_time": "2024-04-11T05:56:58.689317Z"
    }
   },
   "source": [
    "np.dot(embedding1, embedding2)"
   ],
   "outputs": [
    {
     "data": {
      "text/plain": [
       "0.9631227500523617"
      ]
     },
     "execution_count": 36,
     "metadata": {},
     "output_type": "execute_result"
    }
   ],
   "execution_count": 36
  },
  {
   "metadata": {},
   "cell_type": "markdown",
   "source": "But Embedding 2 should differ more",
   "id": "5f16c9e6a51b5ef0"
  },
  {
   "cell_type": "code",
   "id": "32a1fac7",
   "metadata": {
    "height": 30,
    "tags": [],
    "ExecuteTime": {
     "end_time": "2024-04-11T05:56:58.695775Z",
     "start_time": "2024-04-11T05:56:58.693265Z"
    }
   },
   "source": [
    "np.dot(embedding1, embedding3)"
   ],
   "outputs": [
    {
     "data": {
      "text/plain": [
       "0.7703257495981697"
      ]
     },
     "execution_count": 37,
     "metadata": {},
     "output_type": "execute_result"
    }
   ],
   "execution_count": 37
  },
  {
   "cell_type": "code",
   "id": "9dd18328",
   "metadata": {
    "height": 30,
    "tags": [],
    "ExecuteTime": {
     "end_time": "2024-04-11T05:56:58.698755Z",
     "start_time": "2024-04-11T05:56:58.696537Z"
    }
   },
   "source": [
    "np.dot(embedding2, embedding3)"
   ],
   "outputs": [
    {
     "data": {
      "text/plain": [
       "0.7591627401108036"
      ]
     },
     "execution_count": 38,
     "metadata": {},
     "output_type": "execute_result"
    }
   ],
   "execution_count": 38
  },
  {
   "cell_type": "markdown",
   "id": "4fc7b24f",
   "metadata": {},
   "source": [
    "## Vectorstores"
   ]
  },
  {
   "cell_type": "code",
   "id": "da2213e6",
   "metadata": {
    "height": 30,
    "tags": [],
    "ExecuteTime": {
     "end_time": "2024-04-11T05:56:58.701456Z",
     "start_time": "2024-04-11T05:56:58.699900Z"
    }
   },
   "source": [
    "# ! pip install chromadb"
   ],
   "outputs": [],
   "execution_count": 39
  },
  {
   "cell_type": "code",
   "id": "201e6afa",
   "metadata": {
    "height": 30,
    "tags": [],
    "ExecuteTime": {
     "end_time": "2024-04-11T05:56:58.704073Z",
     "start_time": "2024-04-11T05:56:58.702356Z"
    }
   },
   "source": [
    "from langchain.vectorstores import Chroma"
   ],
   "outputs": [],
   "execution_count": 40
  },
  {
   "cell_type": "code",
   "id": "93960ac5",
   "metadata": {
    "height": 30,
    "tags": [],
    "ExecuteTime": {
     "end_time": "2024-04-11T05:56:58.706261Z",
     "start_time": "2024-04-11T05:56:58.704699Z"
    }
   },
   "source": "persist_directory = '../db/chroma-step2.3/'",
   "outputs": [],
   "execution_count": 41
  },
  {
   "cell_type": "code",
   "id": "a195e72a",
   "metadata": {
    "height": 30,
    "tags": [],
    "ExecuteTime": {
     "end_time": "2024-04-11T05:56:58.869289Z",
     "start_time": "2024-04-11T05:56:58.706912Z"
    }
   },
   "source": "!rm -rf ../db/chroma-step2.3  # remove old database files if any",
   "outputs": [],
   "execution_count": 42
  },
  {
   "cell_type": "code",
   "id": "690efd0a",
   "metadata": {
    "height": 98,
    "tags": [],
    "ExecuteTime": {
     "end_time": "2024-04-11T05:57:04.058608Z",
     "start_time": "2024-04-11T05:56:58.870200Z"
    }
   },
   "source": [
    "vectordb = Chroma.from_documents(\n",
    "    documents=splits,\n",
    "    embedding=embedding,\n",
    "    persist_directory=persist_directory\n",
    ")"
   ],
   "outputs": [],
   "execution_count": 43
  },
  {
   "cell_type": "code",
   "id": "f777480c",
   "metadata": {
    "height": 30,
    "tags": [],
    "ExecuteTime": {
     "end_time": "2024-04-11T05:57:04.061342Z",
     "start_time": "2024-04-11T05:57:04.059259Z"
    }
   },
   "source": [
    "print(vectordb._collection.count())"
   ],
   "outputs": [
    {
     "name": "stdout",
     "output_type": "stream",
     "text": [
      "209\n"
     ]
    }
   ],
   "execution_count": 44
  },
  {
   "cell_type": "markdown",
   "id": "efca7589",
   "metadata": {},
   "source": [
    "### Similarity Search"
   ]
  },
  {
   "cell_type": "code",
   "id": "3e20837d",
   "metadata": {
    "height": 30,
    "tags": [],
    "ExecuteTime": {
     "end_time": "2024-04-11T05:57:04.063182Z",
     "start_time": "2024-04-11T05:57:04.061963Z"
    }
   },
   "source": [
    "question = \"is there an email i can ask for help\""
   ],
   "outputs": [],
   "execution_count": 45
  },
  {
   "cell_type": "code",
   "id": "f9bde572",
   "metadata": {
    "height": 30,
    "tags": [],
    "ExecuteTime": {
     "end_time": "2024-04-11T05:57:04.329694Z",
     "start_time": "2024-04-11T05:57:04.063972Z"
    }
   },
   "source": [
    "docs = vectordb.similarity_search(question,k=3)"
   ],
   "outputs": [],
   "execution_count": 46
  },
  {
   "cell_type": "code",
   "id": "41388af1",
   "metadata": {
    "height": 30,
    "tags": [],
    "ExecuteTime": {
     "end_time": "2024-04-11T05:57:04.332947Z",
     "start_time": "2024-04-11T05:57:04.330436Z"
    }
   },
   "source": [
    "len(docs)"
   ],
   "outputs": [
    {
     "data": {
      "text/plain": [
       "3"
      ]
     },
     "execution_count": 47,
     "metadata": {},
     "output_type": "execute_result"
    }
   ],
   "execution_count": 47
  },
  {
   "cell_type": "code",
   "id": "183434f6",
   "metadata": {
    "height": 30,
    "tags": [],
    "ExecuteTime": {
     "end_time": "2024-04-11T05:57:04.336217Z",
     "start_time": "2024-04-11T05:57:04.334137Z"
    }
   },
   "source": [
    "docs[0].page_content"
   ],
   "outputs": [
    {
     "data": {
      "text/plain": [
       "\"cs229-qa@cs.stanford.edu. This goes to an acc ount that's read by all the TAs and me. So \\nrather than sending us email individually, if you send email to this account, it will \\nactually let us get back to you maximally quickly with answers to your questions.  \\nIf you're asking questions about homework probl ems, please say in the subject line which \\nassignment and which question the email refers to, since that will also help us to route \\nyour question to the appropriate TA or to me  appropriately and get the response back to \\nyou quickly.  \\nLet's see. Skipping ahead — let's see — for homework, one midterm, one open and term \\nproject. Notice on the honor code. So one thi ng that I think will help you to succeed and \\ndo well in this class and even help you to enjoy this cla ss more is if you form a study \\ngroup.  \\nSo start looking around where you' re sitting now or at the end of class today, mingle a \\nlittle bit and get to know your classmates. I strongly encourage you to form study groups \\nand sort of have a group of people to study with and have a group of your fellow students \\nto talk over these concepts with. You can also  post on the class news group if you want to \\nuse that to try to form a study group.  \\nBut some of the problems sets in this cla ss are reasonably difficult.  People that have \\ntaken the class before may tell you they were very difficult. And just I bet it would be \\nmore fun for you, and you'd probably have a be tter learning experience if you form a\""
      ]
     },
     "execution_count": 48,
     "metadata": {},
     "output_type": "execute_result"
    }
   ],
   "execution_count": 48
  },
  {
   "cell_type": "markdown",
   "id": "1edb21d8",
   "metadata": {},
   "source": [
    "Let's save this so we can use it later!"
   ]
  },
  {
   "cell_type": "code",
   "id": "ea657123",
   "metadata": {
    "height": 30,
    "tags": [],
    "ExecuteTime": {
     "end_time": "2024-04-11T05:57:04.338841Z",
     "start_time": "2024-04-11T05:57:04.337099Z"
    }
   },
   "source": [
    "vectordb.persist()"
   ],
   "outputs": [],
   "execution_count": 49
  },
  {
   "cell_type": "markdown",
   "id": "cefe9f6a",
   "metadata": {},
   "source": [
    "## Failure modes\n",
    "\n",
    "This seems great, and basic similarity search will get you 80% of the way there very easily. \n",
    "\n",
    "But there are some failure modes that can creep up. \n",
    "\n",
    "Here are some edge cases that can arise - we'll fix them in the next class."
   ]
  },
  {
   "cell_type": "code",
   "id": "df0f29f9",
   "metadata": {
    "height": 30,
    "tags": [],
    "ExecuteTime": {
     "end_time": "2024-04-11T05:57:04.341005Z",
     "start_time": "2024-04-11T05:57:04.339716Z"
    }
   },
   "source": [
    "question = \"what did they say about matlab?\""
   ],
   "outputs": [],
   "execution_count": 50
  },
  {
   "cell_type": "code",
   "id": "02be97df",
   "metadata": {
    "height": 30,
    "tags": [],
    "ExecuteTime": {
     "end_time": "2024-04-11T05:57:04.565102Z",
     "start_time": "2024-04-11T05:57:04.341855Z"
    }
   },
   "source": [
    "docs = vectordb.similarity_search(question,k=5)"
   ],
   "outputs": [],
   "execution_count": 51
  },
  {
   "cell_type": "markdown",
   "id": "2a9f579e",
   "metadata": {},
   "source": [
    "Notice that we're getting duplicate chunks (because of the duplicate `MachineLearning-Lecture01.pdf` in the index).\n",
    "\n",
    "Semantic search fetches all similar documents, but does not enforce diversity.\n",
    "\n",
    "`docs[0]` and `docs[1]` are indentical."
   ]
  },
  {
   "cell_type": "code",
   "id": "d39f6954",
   "metadata": {
    "height": 30,
    "tags": [],
    "ExecuteTime": {
     "end_time": "2024-04-11T05:57:04.568473Z",
     "start_time": "2024-04-11T05:57:04.565895Z"
    }
   },
   "source": [
    "docs[0]"
   ],
   "outputs": [
    {
     "data": {
      "text/plain": [
       "Document(page_content='those homeworks will be done in either MATLA B or in Octave, which is sort of — I \\nknow some people call it a free ve rsion of MATLAB, which it sort  of is, sort of isn\\'t.  \\nSo I guess for those of you that haven\\'t s een MATLAB before, and I know most of you \\nhave, MATLAB is I guess part of the programming language that makes it very easy to write codes using matrices, to write code for numerical routines, to move data around, to \\nplot data. And it\\'s sort of an extremely easy to  learn tool to use for implementing a lot of \\nlearning algorithms.  \\nAnd in case some of you want to work on your  own home computer or something if you \\ndon\\'t have a MATLAB license, for the purposes of  this class, there\\'s also — [inaudible] \\nwrite that down [inaudible] MATLAB — there\\' s also a software package called Octave \\nthat you can download for free off the Internet. And it has somewhat fewer features than MATLAB, but it\\'s free, and for the purposes of  this class, it will work for just about \\neverything.  \\nSo actually I, well, so yeah, just a side comment for those of you that haven\\'t seen \\nMATLAB before I guess, once a colleague of mine at a different university, not at \\nStanford, actually teaches another machine l earning course. He\\'s taught it for many years. \\nSo one day, he was in his office, and an old student of his from, lik e, ten years ago came \\ninto his office and he said, \"Oh, professo r, professor, thank you so much for your', metadata={'page': 8, 'source': '../data/MachineLearning-Lecture01.pdf'})"
      ]
     },
     "execution_count": 52,
     "metadata": {},
     "output_type": "execute_result"
    }
   ],
   "execution_count": 52
  },
  {
   "cell_type": "code",
   "id": "e04e3d1b",
   "metadata": {
    "height": 30,
    "tags": [],
    "ExecuteTime": {
     "end_time": "2024-04-11T05:57:04.571810Z",
     "start_time": "2024-04-11T05:57:04.569336Z"
    }
   },
   "source": [
    "docs[1]"
   ],
   "outputs": [
    {
     "data": {
      "text/plain": [
       "Document(page_content='those homeworks will be done in either MATLA B or in Octave, which is sort of — I \\nknow some people call it a free ve rsion of MATLAB, which it sort  of is, sort of isn\\'t.  \\nSo I guess for those of you that haven\\'t s een MATLAB before, and I know most of you \\nhave, MATLAB is I guess part of the programming language that makes it very easy to write codes using matrices, to write code for numerical routines, to move data around, to \\nplot data. And it\\'s sort of an extremely easy to  learn tool to use for implementing a lot of \\nlearning algorithms.  \\nAnd in case some of you want to work on your  own home computer or something if you \\ndon\\'t have a MATLAB license, for the purposes of  this class, there\\'s also — [inaudible] \\nwrite that down [inaudible] MATLAB — there\\' s also a software package called Octave \\nthat you can download for free off the Internet. And it has somewhat fewer features than MATLAB, but it\\'s free, and for the purposes of  this class, it will work for just about \\neverything.  \\nSo actually I, well, so yeah, just a side comment for those of you that haven\\'t seen \\nMATLAB before I guess, once a colleague of mine at a different university, not at \\nStanford, actually teaches another machine l earning course. He\\'s taught it for many years. \\nSo one day, he was in his office, and an old student of his from, lik e, ten years ago came \\ninto his office and he said, \"Oh, professo r, professor, thank you so much for your', metadata={'page': 8, 'source': '../data/MachineLearning-Lecture01.pdf'})"
      ]
     },
     "execution_count": 53,
     "metadata": {},
     "output_type": "execute_result"
    }
   ],
   "execution_count": 53
  },
  {
   "cell_type": "markdown",
   "id": "3a3a915d",
   "metadata": {},
   "source": [
    "We can see a new failure mode.\n",
    "\n",
    "The question below asks a question about the third lecture, but includes results from other lectures as well."
   ]
  },
  {
   "cell_type": "code",
   "id": "b19135e5",
   "metadata": {
    "height": 30,
    "tags": [],
    "ExecuteTime": {
     "end_time": "2024-04-11T05:57:04.577253Z",
     "start_time": "2024-04-11T05:57:04.575667Z"
    }
   },
   "source": [
    "question = \"what did they say about regression in the third lecture?\""
   ],
   "outputs": [],
   "execution_count": 54
  },
  {
   "cell_type": "code",
   "id": "d434942c",
   "metadata": {
    "height": 30,
    "tags": [],
    "ExecuteTime": {
     "end_time": "2024-04-11T05:57:05.297336Z",
     "start_time": "2024-04-11T05:57:04.578081Z"
    }
   },
   "source": [
    "docs = vectordb.similarity_search(question,k=5)"
   ],
   "outputs": [],
   "execution_count": 55
  },
  {
   "cell_type": "code",
   "id": "c2c5df59",
   "metadata": {
    "height": 47,
    "tags": [],
    "ExecuteTime": {
     "end_time": "2024-04-11T05:57:05.302571Z",
     "start_time": "2024-04-11T05:57:05.299184Z"
    }
   },
   "source": [
    "for doc in docs:\n",
    "    print(doc.metadata)"
   ],
   "outputs": [
    {
     "name": "stdout",
     "output_type": "stream",
     "text": [
      "{'page': 0, 'source': '../data/MachineLearning-Lecture03.pdf'}\n",
      "{'page': 14, 'source': '../data/MachineLearning-Lecture03.pdf'}\n",
      "{'page': 4, 'source': '../data/MachineLearning-Lecture03.pdf'}\n",
      "{'page': 0, 'source': '../data/MachineLearning-Lecture02.pdf'}\n",
      "{'page': 6, 'source': '../data/MachineLearning-Lecture03.pdf'}\n"
     ]
    }
   ],
   "execution_count": 56
  },
  {
   "cell_type": "code",
   "id": "8e6cb50c",
   "metadata": {
    "height": 30,
    "tags": [],
    "ExecuteTime": {
     "end_time": "2024-04-11T05:57:05.306811Z",
     "start_time": "2024-04-11T05:57:05.304247Z"
    }
   },
   "source": [
    "print(docs[4].page_content)"
   ],
   "outputs": [
    {
     "name": "stdout",
     "output_type": "stream",
     "text": [
      "data sets as well. So don’t want to talk about  that. If you’re interested, look up the work \n",
      "of Andrew Moore on KD-trees. He, sort of, fi gured out ways to fit these models much \n",
      "more efficiently. That’s not something I want  to go into today. Okay? Let me move one. \n",
      "Let’s take more questions later.  \n",
      "So, okay. So that’s locally weighted regres sion. Remember the outline I had, I guess, at \n",
      "the beginning of this lecture. What I want to do now is talk about a probabilistic interpretation of linear regres sion, all right? And in partic ular of the – it’ll be this \n",
      "probabilistic interpretati on that let’s us move on to talk  about logistic regression, which \n",
      "will be our first classification algorithm. So le t’s put aside locally weighted regression for \n",
      "now. We’ll just talk about ordinary unwei ghted linear regression. Let’s ask the question \n",
      "of why least squares, right? Of all the thi ngs we could optimize how do we come up with \n",
      "this criteria for minimizing the square of  the area between the predictions of the \n",
      "hypotheses and the values Y predicted. So w hy not minimize the absolute value of the \n",
      "areas or the areas to the power of four or something? What I’m going to do now is \n",
      "present one set of assumptions that will serve to “justify” why we’re minimizing the sum \n",
      "of square zero. Okay?  \n",
      "It turns out that there are many assumptions th at are sufficient to justify why we do least \n",
      "squares and this is just one of them. So ju st because I present one set of assumptions\n"
     ]
    }
   ],
   "execution_count": 57
  },
  {
   "cell_type": "markdown",
   "id": "c3dbca56",
   "metadata": {},
   "source": [
    "Approaches discussed in the next lecture can be used to address both!"
   ]
  },
  {
   "metadata": {
    "ExecuteTime": {
     "end_time": "2024-04-11T05:57:05.309540Z",
     "start_time": "2024-04-11T05:57:05.307959Z"
    }
   },
   "cell_type": "code",
   "source": "",
   "id": "4fea851248012b87",
   "outputs": [],
   "execution_count": 57
  }
 ],
 "metadata": {
  "kernelspec": {
   "display_name": "Python 3 (ipykernel)",
   "language": "python",
   "name": "python3"
  },
  "language_info": {
   "codemirror_mode": {
    "name": "ipython",
    "version": 3
   },
   "file_extension": ".py",
   "mimetype": "text/x-python",
   "name": "python",
   "nbconvert_exporter": "python",
   "pygments_lexer": "ipython3",
   "version": "3.9.17"
  }
 },
 "nbformat": 4,
 "nbformat_minor": 5
}
