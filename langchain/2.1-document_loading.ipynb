{
 "cells": [
  {
   "cell_type": "markdown",
   "id": "d4c3ab93",
   "metadata": {},
   "source": "# 2.1 Document Loading"
  },
  {
   "cell_type": "code",
   "id": "f015f708",
   "metadata": {
    "height": 30,
    "tags": []
   },
   "source": "%pip install python-dotenv langchain langchain-openai docarray --upgrade --quiet",
   "outputs": [],
   "execution_count": null
  },
  {
   "cell_type": "code",
   "id": "f26c2a2a-f7a7-4580-ab73-178bab918dd7",
   "metadata": {
    "height": 166,
    "tags": []
   },
   "source": [
    "#import os\n",
    "#import openai\n",
    "\n",
    "from dotenv import load_dotenv, find_dotenv\n",
    "_ = load_dotenv(find_dotenv()) # read local .env file\n",
    "\n",
    "#openai.api_key  = os.environ['OPENAI_API_KEY']"
   ],
   "outputs": [],
   "execution_count": null
  },
  {
   "cell_type": "markdown",
   "id": "38baf6d3",
   "metadata": {},
   "source": [
    "## PDFs\n",
    "\n",
    "Let's load a PDF [transcript](https://see.stanford.edu/materials/aimlcs229/transcripts/MachineLearning-Lecture01.pdf) from Andrew Ng's famous CS229 course! These documents are the result of automated transcription so words and sentences are sometimes split unexpectedly."
   ]
  },
  {
   "cell_type": "code",
   "id": "ab4583ef",
   "metadata": {
    "height": 79,
    "tags": []
   },
   "source": [
    "# The course will show the pip installs you would need to install packages on your own machine.\n",
    "# These packages are already installed on this platform and should not be run again.\n",
    "#! pip install pypdf "
   ],
   "outputs": [],
   "execution_count": null
  },
  {
   "cell_type": "code",
   "id": "38ef5d48",
   "metadata": {
    "height": 79,
    "tags": []
   },
   "source": [
    "from langchain.document_loaders import PyPDFLoader\n",
    "loader = PyPDFLoader(\"../data/MachineLearning-Lecture01.pdf\")\n",
    "pages = loader.load()"
   ],
   "outputs": [],
   "execution_count": null
  },
  {
   "cell_type": "markdown",
   "id": "a284cc8a",
   "metadata": {},
   "source": [
    "Each page is a `Document`.\n",
    "\n",
    "A `Document` contains text (`page_content`) and `metadata`."
   ]
  },
  {
   "cell_type": "code",
   "id": "fd28c723-3625-4219-b0f8-8d5b761ae79e",
   "metadata": {
    "height": 30,
    "tags": []
   },
   "source": [
    "len(pages)"
   ],
   "outputs": [],
   "execution_count": null
  },
  {
   "cell_type": "code",
   "id": "26ff4112",
   "metadata": {
    "height": 30,
    "tags": []
   },
   "source": [
    "page = pages[0]"
   ],
   "outputs": [],
   "execution_count": null
  },
  {
   "cell_type": "code",
   "id": "5c94e3b5",
   "metadata": {
    "height": 30,
    "tags": []
   },
   "source": [
    "print(page.page_content[0:500])"
   ],
   "outputs": [],
   "execution_count": null
  },
  {
   "cell_type": "code",
   "id": "605d0932",
   "metadata": {
    "height": 30,
    "tags": []
   },
   "source": [
    "page.metadata"
   ],
   "outputs": [],
   "execution_count": null
  },
  {
   "cell_type": "markdown",
   "id": "ead28868",
   "metadata": {},
   "source": "## YouTube"
  },
  {
   "cell_type": "code",
   "id": "4c5f360f",
   "metadata": {
    "height": 79,
    "tags": []
   },
   "source": "from langchain_community.document_loaders import YoutubeLoader\n",
   "outputs": [],
   "execution_count": null
  },
  {
   "cell_type": "code",
   "id": "4835edd9",
   "metadata": {
    "height": 47,
    "tags": []
   },
   "source": "%pip install --upgrade --quiet  youtube-transcript-api",
   "outputs": [],
   "execution_count": null
  },
  {
   "cell_type": "code",
   "id": "197f0936",
   "metadata": {
    "height": 132,
    "tags": []
   },
   "source": [
    "url=\"https://www.youtube.com/watch?v=XC7BeLRm7ak\"\n",
    "loader = YoutubeLoader.from_youtube_url(\n",
    "    url, add_video_info=False\n",
    ")\n",
    "docs = loader.load()\n",
    "print(len(docs))"
   ],
   "outputs": [],
   "execution_count": null
  },
  {
   "cell_type": "code",
   "id": "c2bf39c3",
   "metadata": {
    "height": 30,
    "tags": []
   },
   "source": [
    "docs[0].page_content[0:500]"
   ],
   "outputs": [],
   "execution_count": null
  },
  {
   "cell_type": "markdown",
   "id": "6b54e6f9",
   "metadata": {},
   "source": [
    "## URLs"
   ]
  },
  {
   "cell_type": "code",
   "id": "ede7f5d4",
   "metadata": {
    "height": 79,
    "tags": []
   },
   "source": [
    "from langchain.document_loaders import WebBaseLoader\n",
    "\n",
    "loader = WebBaseLoader(\"https://github.com/basecamp/handbook/blob/master/37signals-is-you.md\")"
   ],
   "outputs": [],
   "execution_count": null
  },
  {
   "cell_type": "code",
   "id": "596c8f4e-6fd5-4230-9dfc-84e100e90d72",
   "metadata": {
    "height": 30,
    "tags": []
   },
   "source": [
    "docs = loader.load()"
   ],
   "outputs": [],
   "execution_count": null
  },
  {
   "cell_type": "code",
   "id": "3039f8ed-ebc1-44e7-829a-9499dc5d1f03",
   "metadata": {
    "height": 30,
    "tags": []
   },
   "source": [
    "print(docs[0].page_content[:500])"
   ],
   "outputs": [],
   "execution_count": null
  }
 ],
 "metadata": {
  "kernelspec": {
   "display_name": "Python 3 (ipykernel)",
   "language": "python",
   "name": "python3"
  },
  "language_info": {
   "codemirror_mode": {
    "name": "ipython",
    "version": 3
   },
   "file_extension": ".py",
   "mimetype": "text/x-python",
   "name": "python",
   "nbconvert_exporter": "python",
   "pygments_lexer": "ipython3",
   "version": "3.9.17"
  }
 },
 "nbformat": 4,
 "nbformat_minor": 5
}
