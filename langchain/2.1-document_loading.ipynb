{
 "cells": [
  {
   "cell_type": "markdown",
   "id": "d4c3ab93",
   "metadata": {},
   "source": "# 2.1 Document Loading"
  },
  {
   "cell_type": "code",
   "execution_count": null,
   "id": "f015f708",
   "metadata": {
    "height": 30,
    "tags": []
   },
   "outputs": [],
   "source": "%pip install python-dotenv langchain langchain-openai docarray --upgrade --quiet"
  },
  {
   "cell_type": "code",
   "id": "f26c2a2a-f7a7-4580-ab73-178bab918dd7",
   "metadata": {
    "height": 166,
    "tags": [],
    "ExecuteTime": {
     "end_time": "2024-04-10T21:23:39.384480Z",
     "start_time": "2024-04-10T21:23:39.381604Z"
    }
   },
   "source": [
    "#import os\n",
    "#import openai\n",
    "\n",
    "from dotenv import load_dotenv, find_dotenv\n",
    "_ = load_dotenv(find_dotenv()) # read local .env file\n",
    "\n",
    "#openai.api_key  = os.environ['OPENAI_API_KEY']"
   ],
   "outputs": [],
   "execution_count": 10
  },
  {
   "cell_type": "markdown",
   "id": "38baf6d3",
   "metadata": {},
   "source": [
    "## PDFs\n",
    "\n",
    "Let's load a PDF [transcript](https://see.stanford.edu/materials/aimlcs229/transcripts/MachineLearning-Lecture01.pdf) from Andrew Ng's famous CS229 course! These documents are the result of automated transcription so words and sentences are sometimes split unexpectedly."
   ]
  },
  {
   "cell_type": "code",
   "id": "ab4583ef",
   "metadata": {
    "height": 79,
    "tags": [],
    "ExecuteTime": {
     "end_time": "2024-04-10T21:23:40.926635Z",
     "start_time": "2024-04-10T21:23:40.924398Z"
    }
   },
   "source": [
    "# The course will show the pip installs you would need to install packages on your own machine.\n",
    "# These packages are already installed on this platform and should not be run again.\n",
    "#! pip install pypdf "
   ],
   "outputs": [],
   "execution_count": 11
  },
  {
   "cell_type": "code",
   "id": "38ef5d48",
   "metadata": {
    "height": 79,
    "tags": [],
    "ExecuteTime": {
     "end_time": "2024-04-10T21:23:41.977278Z",
     "start_time": "2024-04-10T21:23:41.898492Z"
    }
   },
   "source": [
    "from langchain.document_loaders import PyPDFLoader\n",
    "loader = PyPDFLoader(\"../data/MachineLearning-Lecture01.pdf\")\n",
    "pages = loader.load()"
   ],
   "outputs": [],
   "execution_count": 12
  },
  {
   "cell_type": "markdown",
   "id": "a284cc8a",
   "metadata": {},
   "source": [
    "Each page is a `Document`.\n",
    "\n",
    "A `Document` contains text (`page_content`) and `metadata`."
   ]
  },
  {
   "cell_type": "code",
   "id": "fd28c723-3625-4219-b0f8-8d5b761ae79e",
   "metadata": {
    "height": 30,
    "tags": [],
    "ExecuteTime": {
     "end_time": "2024-04-10T21:23:48.040052Z",
     "start_time": "2024-04-10T21:23:48.036018Z"
    }
   },
   "source": [
    "len(pages)"
   ],
   "outputs": [
    {
     "data": {
      "text/plain": [
       "22"
      ]
     },
     "execution_count": 13,
     "metadata": {},
     "output_type": "execute_result"
    }
   ],
   "execution_count": 13
  },
  {
   "cell_type": "code",
   "id": "26ff4112",
   "metadata": {
    "height": 30,
    "tags": [],
    "ExecuteTime": {
     "end_time": "2024-04-10T21:23:49.606144Z",
     "start_time": "2024-04-10T21:23:49.604046Z"
    }
   },
   "source": [
    "page = pages[0]"
   ],
   "outputs": [],
   "execution_count": 14
  },
  {
   "cell_type": "code",
   "id": "5c94e3b5",
   "metadata": {
    "height": 30,
    "tags": [],
    "ExecuteTime": {
     "end_time": "2024-04-10T21:23:50.829254Z",
     "start_time": "2024-04-10T21:23:50.827321Z"
    }
   },
   "source": [
    "print(page.page_content[0:500])"
   ],
   "outputs": [
    {
     "name": "stdout",
     "output_type": "stream",
     "text": [
      "MachineLearning-Lecture01  \n",
      "Instructor (Andrew Ng):  Okay. Good morning. Welcome to CS229, the machine \n",
      "learning class. So what I wanna do today is ju st spend a little time going over the logistics \n",
      "of the class, and then we'll start to  talk a bit about machine learning.  \n",
      "By way of introduction, my name's  Andrew Ng and I'll be instru ctor for this class. And so \n",
      "I personally work in machine learning, and I' ve worked on it for about 15 years now, and \n",
      "I actually think that machine learning i\n"
     ]
    }
   ],
   "execution_count": 15
  },
  {
   "cell_type": "code",
   "id": "605d0932",
   "metadata": {
    "height": 30,
    "tags": [],
    "ExecuteTime": {
     "end_time": "2024-04-10T21:23:54.405281Z",
     "start_time": "2024-04-10T21:23:54.402252Z"
    }
   },
   "source": [
    "page.metadata"
   ],
   "outputs": [
    {
     "data": {
      "text/plain": [
       "{'source': '../data/MachineLearning-Lecture01.pdf', 'page': 0}"
      ]
     },
     "execution_count": 16,
     "metadata": {},
     "output_type": "execute_result"
    }
   ],
   "execution_count": 16
  },
  {
   "cell_type": "markdown",
   "id": "ead28868",
   "metadata": {},
   "source": "## YouTube"
  },
  {
   "cell_type": "code",
   "id": "4c5f360f",
   "metadata": {
    "height": 79,
    "tags": [],
    "ExecuteTime": {
     "end_time": "2024-04-10T22:08:12.489492Z",
     "start_time": "2024-04-10T22:08:12.482503Z"
    }
   },
   "source": "from langchain_community.document_loaders import YoutubeLoader\n",
   "outputs": [],
   "execution_count": 32
  },
  {
   "cell_type": "code",
   "id": "4835edd9",
   "metadata": {
    "height": 47,
    "tags": [],
    "ExecuteTime": {
     "end_time": "2024-04-10T22:08:40.343733Z",
     "start_time": "2024-04-10T22:08:38.348058Z"
    }
   },
   "source": "%pip install --upgrade --quiet  youtube-transcript-api",
   "outputs": [
    {
     "name": "stdout",
     "output_type": "stream",
     "text": [
      "Note: you may need to restart the kernel to use updated packages.\n"
     ]
    }
   ],
   "execution_count": 33
  },
  {
   "cell_type": "code",
   "id": "197f0936",
   "metadata": {
    "height": 132,
    "tags": [],
    "ExecuteTime": {
     "end_time": "2024-04-10T22:09:50.576894Z",
     "start_time": "2024-04-10T22:09:50.058200Z"
    }
   },
   "source": [
    "url=\"https://www.youtube.com/watch?v=XC7BeLRm7ak\"\n",
    "loader = YoutubeLoader.from_youtube_url(\n",
    "    url, add_video_info=False\n",
    ")\n",
    "docs = loader.load()\n",
    "print(len(docs))"
   ],
   "outputs": [
    {
     "name": "stdout",
     "output_type": "stream",
     "text": [
      "1\n"
     ]
    }
   ],
   "execution_count": 39
  },
  {
   "cell_type": "code",
   "id": "c2bf39c3",
   "metadata": {
    "height": 30,
    "tags": [],
    "ExecuteTime": {
     "end_time": "2024-04-10T22:09:53.354013Z",
     "start_time": "2024-04-10T22:09:53.346585Z"
    }
   },
   "source": [
    "docs[0].page_content[0:500]"
   ],
   "outputs": [
    {
     "data": {
      "text/plain": [
       "\"we recently asked developers a question on social media what's the single best invention or Discovery for software development in the last 20 years I found some of the responses a little surprising and interesting so let's take a look at what people [Music] said hi I'm Dave Farley of continuous delivery and welcome to my channel if you haven't been here before please do h subscribe and if you enjoy the content here today hit like as well I confess that I was somewhat surprised by many of the res\""
      ]
     },
     "execution_count": 40,
     "metadata": {},
     "output_type": "execute_result"
    }
   ],
   "execution_count": 40
  },
  {
   "cell_type": "markdown",
   "id": "6b54e6f9",
   "metadata": {},
   "source": [
    "## URLs"
   ]
  },
  {
   "cell_type": "code",
   "execution_count": null,
   "id": "ede7f5d4",
   "metadata": {
    "height": 79,
    "tags": []
   },
   "outputs": [],
   "source": [
    "from langchain.document_loaders import WebBaseLoader\n",
    "\n",
    "loader = WebBaseLoader(\"https://github.com/basecamp/handbook/blob/master/37signals-is-you.md\")"
   ]
  },
  {
   "cell_type": "code",
   "execution_count": null,
   "id": "596c8f4e-6fd5-4230-9dfc-84e100e90d72",
   "metadata": {
    "height": 30,
    "tags": []
   },
   "outputs": [],
   "source": [
    "docs = loader.load()"
   ]
  },
  {
   "cell_type": "code",
   "execution_count": null,
   "id": "3039f8ed-ebc1-44e7-829a-9499dc5d1f03",
   "metadata": {
    "height": 30,
    "tags": []
   },
   "outputs": [],
   "source": [
    "print(docs[0].page_content[:500])"
   ]
  }
 ],
 "metadata": {
  "kernelspec": {
   "display_name": "Python 3 (ipykernel)",
   "language": "python",
   "name": "python3"
  },
  "language_info": {
   "codemirror_mode": {
    "name": "ipython",
    "version": 3
   },
   "file_extension": ".py",
   "mimetype": "text/x-python",
   "name": "python",
   "nbconvert_exporter": "python",
   "pygments_lexer": "ipython3",
   "version": "3.9.17"
  }
 },
 "nbformat": 4,
 "nbformat_minor": 5
}
