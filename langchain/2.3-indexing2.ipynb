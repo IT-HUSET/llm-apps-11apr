{
 "cells": [
  {
   "metadata": {},
   "cell_type": "markdown",
   "source": [
    "# 2.3 Vectorstores and Embeddings - part 2\n",
    "\n",
    "## Using other embedding models"
   ],
   "id": "df9c63ee419172cd"
  },
  {
   "metadata": {},
   "cell_type": "code",
   "source": "%pip install python-dotenv langchain langchain-openai chromadb docarray --upgrade --quiet",
   "id": "d590a14945da877b",
   "outputs": [],
   "execution_count": null
  },
  {
   "cell_type": "code",
   "id": "initial_id",
   "metadata": {
    "collapsed": true
   },
   "source": [
    "#import os\n",
    "#import openai\n",
    "\n",
    "from dotenv import load_dotenv, find_dotenv\n",
    "_ = load_dotenv(find_dotenv()) # read local .env file\n",
    "\n",
    "#openai.api_key  = os.environ['OPENAI_API_KEY']"
   ],
   "outputs": [],
   "execution_count": null
  },
  {
   "metadata": {},
   "cell_type": "code",
   "source": [
    "from langchain.llms import OpenAI\n",
    "\n",
    "# !pip install -U langchain-community\n",
    "# !pip install -U gpt4all\n",
    "from langchain_community.embeddings import GPT4AllEmbeddings\n",
    "# !pip install -U chromadb\n",
    "from langchain_community.vectorstores import Chroma\n",
    "\n",
    "# !pip install -U sentence-transformers\n",
    "from langchain.embeddings import HuggingFaceEmbeddings\n",
    "\n",
    "# !pip install -U bs4\n",
    "# from langchain_community.document_loaders import WebBaseLoader\n",
    "from langchain_text_splitters import CharacterTextSplitter\n",
    "\n",
    "# !pip install -U unstructured\n",
    "from langchain_community.document_loaders import UnstructuredMarkdownLoader"
   ],
   "id": "cd46c63f1b577d82",
   "outputs": [],
   "execution_count": null
  },
  {
   "metadata": {},
   "cell_type": "code",
   "source": [
    "# create the open-source embedding function\n",
    "embedding_function = HuggingFaceEmbeddings(model_name=\"all-MiniLM-L6-v2\")\n",
    "#embedding_function = SentenceTransformerEmbeddings(model_name=\"all-MiniLM-L6-v2\")\n",
    "#embedding_function = GPT4AllEmbeddings()"
   ],
   "id": "836bb4ae8a12e1d3",
   "outputs": [],
   "execution_count": null
  },
  {
   "metadata": {},
   "cell_type": "code",
   "source": [
    "loaders = [\n",
    "    UnstructuredMarkdownLoader(\"../data/listing1.md\"),\n",
    "    UnstructuredMarkdownLoader(\"../data/listing2.md\"),\n",
    "    UnstructuredMarkdownLoader(\"../data/listing3.md\"),\n",
    "]\n",
    "documents = []\n",
    "for loader in loaders:\n",
    "    documents.extend(loader.load())\n"
   ],
   "id": "1f111c2cfbaffda0",
   "outputs": [],
   "execution_count": null
  },
  {
   "metadata": {},
   "cell_type": "code",
   "source": [
    "from langchain.text_splitter import CharacterTextSplitter\n",
    "\n",
    "# split it into chunks\n",
    "text_splitter = CharacterTextSplitter(chunk_size=1000, chunk_overlap=32)\n",
    "splitDocs = text_splitter.split_documents(documents)\n",
    "\n",
    "# embeddings = []\n",
    "# for sp in splitDocs:\n",
    "#     embeddings = embedding.embed_query(sp.page_content)\n",
    "\n",
    "print(f\"splitDocs count: {len(splitDocs)}\")"
   ],
   "id": "fb6b3c375ec5a4aa",
   "outputs": [],
   "execution_count": null
  },
  {
   "metadata": {},
   "cell_type": "code",
   "source": [
    "#persist_directory = '../db/chroma-hugging-1/'\n",
    "#!rm -rf ../db/chroma-hugging-1  # remove old database files if any\n",
    "\n",
    "print('Loading the vector store...')\n",
    "vectorstore = Chroma.from_documents(documents=splitDocs, embedding=embedding_function) #, persist_directory=persist_directory)"
   ],
   "id": "a5bcd4404972ec34",
   "outputs": [],
   "execution_count": null
  },
  {
   "metadata": {},
   "cell_type": "code",
   "source": [
    "question = \"I'm looking for a 2-bedroom apartment\"\n",
    "#question = \"I'm looking for an apartment with a stackable washer.\"\n",
    "#question = \"I'm looking for an electric car with autopilot\"\n",
    "\n",
    "print(\"Similarity search...\")\n",
    "docs = vectorstore.similarity_search(question, k=1)\n",
    "\n",
    "length = len(docs)\n",
    "print(f\"Result: {length}\")\n",
    "\n",
    "for d in docs:\n",
    "    print(d)"
   ],
   "id": "7b0d68c12e64b92c",
   "outputs": [],
   "execution_count": null
  },
  {
   "metadata": {},
   "cell_type": "code",
   "source": "",
   "id": "5e34348ffaf1f333",
   "outputs": [],
   "execution_count": null
  }
 ],
 "metadata": {
  "kernelspec": {
   "display_name": "Python 3",
   "language": "python",
   "name": "python3"
  },
  "language_info": {
   "codemirror_mode": {
    "name": "ipython",
    "version": 2
   },
   "file_extension": ".py",
   "mimetype": "text/x-python",
   "name": "python",
   "nbconvert_exporter": "python",
   "pygments_lexer": "ipython2",
   "version": "2.7.6"
  }
 },
 "nbformat": 4,
 "nbformat_minor": 5
}
