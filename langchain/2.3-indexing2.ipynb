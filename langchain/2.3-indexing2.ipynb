{
 "cells": [
  {
   "metadata": {},
   "cell_type": "markdown",
   "source": [
    "# 2.3 Vectorstores and Embeddings - part 2\n",
    "\n",
    "## Using other embedding models"
   ],
   "id": "df9c63ee419172cd"
  },
  {
   "metadata": {},
   "cell_type": "code",
   "outputs": [],
   "execution_count": null,
   "source": "%pip install python-dotenv langchain langchain-openai chromadb docarray --upgrade --quiet",
   "id": "d590a14945da877b"
  },
  {
   "cell_type": "code",
   "id": "initial_id",
   "metadata": {
    "collapsed": true,
    "ExecuteTime": {
     "end_time": "2024-04-11T05:33:59.888226Z",
     "start_time": "2024-04-11T05:33:59.478496Z"
    }
   },
   "source": [
    "#import os\n",
    "#import openai\n",
    "\n",
    "from dotenv import load_dotenv, find_dotenv\n",
    "_ = load_dotenv(find_dotenv()) # read local .env file\n",
    "\n",
    "#openai.api_key  = os.environ['OPENAI_API_KEY']"
   ],
   "outputs": [],
   "execution_count": 1
  },
  {
   "metadata": {
    "ExecuteTime": {
     "end_time": "2024-04-11T05:34:00.303419Z",
     "start_time": "2024-04-11T05:33:59.889198Z"
    }
   },
   "cell_type": "code",
   "source": [
    "from langchain.llms import OpenAI\n",
    "\n",
    "# !pip install -U langchain-community\n",
    "# !pip install -U gpt4all\n",
    "from langchain_community.embeddings import GPT4AllEmbeddings\n",
    "# !pip install -U chromadb\n",
    "from langchain_community.vectorstores import Chroma\n",
    "\n",
    "# !pip install -U sentence-transformers\n",
    "from langchain.embeddings import HuggingFaceEmbeddings\n",
    "\n",
    "# !pip install -U bs4\n",
    "# from langchain_community.document_loaders import WebBaseLoader\n",
    "from langchain_text_splitters import CharacterTextSplitter\n",
    "\n",
    "# !pip install -U unstructured\n",
    "from langchain_community.document_loaders import UnstructuredMarkdownLoader"
   ],
   "id": "cd46c63f1b577d82",
   "outputs": [],
   "execution_count": 2
  },
  {
   "metadata": {
    "ExecuteTime": {
     "end_time": "2024-04-11T05:34:45.222655Z",
     "start_time": "2024-04-11T05:34:43.478097Z"
    }
   },
   "cell_type": "code",
   "source": [
    "# create the open-source embedding function\n",
    "embedding_function = HuggingFaceEmbeddings(model_name=\"all-MiniLM-L6-v2\")\n",
    "#embedding_function = SentenceTransformerEmbeddings(model_name=\"all-MiniLM-L6-v2\")\n",
    "#embedding_function = GPT4AllEmbeddings()"
   ],
   "id": "836bb4ae8a12e1d3",
   "outputs": [],
   "execution_count": 9
  },
  {
   "metadata": {
    "ExecuteTime": {
     "end_time": "2024-04-11T05:36:08.767060Z",
     "start_time": "2024-04-11T05:36:08.737582Z"
    }
   },
   "cell_type": "code",
   "source": [
    "loaders = [\n",
    "    UnstructuredMarkdownLoader(\"../data/listing1.md\"),\n",
    "    UnstructuredMarkdownLoader(\"../data/listing2.md\"),\n",
    "    UnstructuredMarkdownLoader(\"../data/listing3.md\"),\n",
    "]\n",
    "documents = []\n",
    "for loader in loaders:\n",
    "    documents.extend(loader.load())\n"
   ],
   "id": "1f111c2cfbaffda0",
   "outputs": [],
   "execution_count": 16
  },
  {
   "metadata": {
    "ExecuteTime": {
     "end_time": "2024-04-11T05:36:09.226830Z",
     "start_time": "2024-04-11T05:36:09.224358Z"
    }
   },
   "cell_type": "code",
   "source": [
    "from langchain.text_splitter import CharacterTextSplitter\n",
    "\n",
    "# split it into chunks\n",
    "text_splitter = CharacterTextSplitter(chunk_size=1000, chunk_overlap=32)\n",
    "splitDocs = text_splitter.split_documents(documents)\n",
    "\n",
    "# embeddings = []\n",
    "# for sp in splitDocs:\n",
    "#     embeddings = embedding.embed_query(sp.page_content)\n",
    "\n",
    "print(f\"splitDocs count: {len(splitDocs)}\")"
   ],
   "id": "fb6b3c375ec5a4aa",
   "outputs": [
    {
     "name": "stdout",
     "output_type": "stream",
     "text": [
      "splitDocs count: 10\n"
     ]
    }
   ],
   "execution_count": 17
  },
  {
   "metadata": {
    "ExecuteTime": {
     "end_time": "2024-04-11T05:36:09.949463Z",
     "start_time": "2024-04-11T05:36:09.809040Z"
    }
   },
   "cell_type": "code",
   "source": [
    "#persist_directory = '../db/chroma-hugging-1/'\n",
    "#!rm -rf ../db/chroma-hugging-1  # remove old database files if any\n",
    "\n",
    "print('Loading the vector store...')\n",
    "vectorstore = Chroma.from_documents(documents=splitDocs, embedding=embedding_function) #, persist_directory=persist_directory)"
   ],
   "id": "a5bcd4404972ec34",
   "outputs": [
    {
     "name": "stdout",
     "output_type": "stream",
     "text": [
      "Loading the vector store...\n"
     ]
    }
   ],
   "execution_count": 18
  },
  {
   "metadata": {
    "ExecuteTime": {
     "end_time": "2024-04-11T05:39:24.748741Z",
     "start_time": "2024-04-11T05:39:24.109850Z"
    }
   },
   "cell_type": "code",
   "source": [
    "question = \"I'm looking for a 2-bedroom apartment\"\n",
    "#question = \"I'm looking for an apartment with a stackable washer.\"\n",
    "#question = \"I'm looking for an electric car with autopilot\"\n",
    "\n",
    "print(\"Similarity search...\")\n",
    "docs = vectorstore.similarity_search(question, k=1)\n",
    "\n",
    "length = len(docs)\n",
    "print(f\"Result: {length}\")\n",
    "\n",
    "for d in docs:\n",
    "    print(d)"
   ],
   "id": "7b0d68c12e64b92c",
   "outputs": [
    {
     "name": "stdout",
     "output_type": "stream",
     "text": [
      "Similarity search...\n",
      "Result: 1\n",
      "page_content=\"2022 Tesla Model S Plaid - A Marvel of Electric Performance\\n\\nPrice: $129,900\\n\\nMake: Tesla\\n\\nModel: Model S Plaid\\n\\nYear: 2022\\n\\nMileage: 5,000 miles\\n\\nExterior Color: Midnight Silver Metallic\\n\\nInterior Color: Black with Carbon Fiber Decor\\n\\nEngine: Triple Electric Motor AWD\\n\\nBattery Range: Up to 396 miles on a single charge\\n\\nCharging: Supercharger capable, includes home charging kit\\n\\nOverview\\n\\nExperience the pinnacle of electric performance with the 2022 Tesla Model S Plaid. This vehicle not only redefines what an electric car can be, but it also sets a new standard for luxury sedans. With just 5,000 miles on the odometer, it's as close to new as you can get without driving it off the showroom floor. The Model S Plaid's breathtaking acceleration, unparalleled range, and advanced technology make it a standout in the electric vehicle market.\\n\\nPerformance\\n\\n0 to 60 mph in 1.99 seconds thanks to its tri-motor all-wheel drive powertrain.\" metadata={'source': '../data/listing3.md'}\n"
     ]
    }
   ],
   "execution_count": 28
  },
  {
   "metadata": {},
   "cell_type": "code",
   "outputs": [],
   "execution_count": null,
   "source": "",
   "id": "5e34348ffaf1f333"
  }
 ],
 "metadata": {
  "kernelspec": {
   "display_name": "Python 3",
   "language": "python",
   "name": "python3"
  },
  "language_info": {
   "codemirror_mode": {
    "name": "ipython",
    "version": 2
   },
   "file_extension": ".py",
   "mimetype": "text/x-python",
   "name": "python",
   "nbconvert_exporter": "python",
   "pygments_lexer": "ipython2",
   "version": "2.7.6"
  }
 },
 "nbformat": 4,
 "nbformat_minor": 5
}
