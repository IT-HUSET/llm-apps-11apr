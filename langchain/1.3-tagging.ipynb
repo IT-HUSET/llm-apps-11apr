{
 "cells": [
  {
   "metadata": {},
   "cell_type": "markdown",
   "source": [
    "# 1.3 Tagging, using function calling / tool use\n",
    "\n",
    "(Adapted from https://python.langchain.com/docs/use_cases/tagging) "
   ],
   "id": "4bf4482c66bc7637"
  },
  {
   "cell_type": "markdown",
   "id": "a0507a4b",
   "metadata": {
    "id": "a0507a4b"
   },
   "source": [
    "[![Open In Colab](https://colab.research.google.com/assets/colab-badge.svg)](https://colab.research.google.com/github/langchain-ai/langchain/blob/master/docs/docs/use_cases/tagging.ipynb)\n",
    "\n",
    "## Use case\n",
    "\n",
    "Tagging means labeling a document with classes such as:\n",
    "\n",
    "- sentiment\n",
    "- language\n",
    "- style (formal, informal etc.)\n",
    "- covered topics\n",
    "- political tendency\n",
    "\n",
    "![Image description](https://github.com/langchain-ai/langchain/blob/master/docs/static/img/tagging.png?raw=1)\n",
    "\n",
    "## Overview\n",
    "\n",
    "Tagging has a few components:\n",
    "\n",
    "* `function`: Like [extraction](/docs/use_cases/extraction), tagging uses [functions](https://openai.com/blog/function-calling-and-other-api-updates) to specify how the model should tag a document\n",
    "* `schema`: defines how we want to tag the document\n",
    "\n",
    "## Quickstart\n",
    "\n",
    "Let's see a very straightforward example of how we can use OpenAI tool calling for tagging in LangChain. We'll use the [`with_structured_output`](/docs/modules/model_io/chat/structured_output) method supported by OpenAI models:"
   ]
  },
  {
   "cell_type": "code",
   "id": "dc5cbb6f",
   "metadata": {
    "id": "dc5cbb6f",
    "colab": {
     "base_uri": "https://localhost:8080/"
    },
    "outputId": "1bb1df94-4797-4f4e-ee8b-bbb251b3a0dd",
    "ExecuteTime": {
     "end_time": "2024-04-11T08:50:27.564480Z",
     "start_time": "2024-04-11T08:50:25.359887Z"
    }
   },
   "source": [
    "%pip install python-dotenv langchain langchain-openai docarray --upgrade --quiet\n",
    "%pip install pydantic==1.10.10 --upgrade --quiet\n",
    "\n",
    "# Set env var OPENAI_API_KEY or load from a .env file:\n",
    "import dotenv\n",
    "dotenv.load_dotenv()"
   ],
   "outputs": [
    {
     "name": "stdout",
     "output_type": "stream",
     "text": [
      "Note: you may need to restart the kernel to use updated packages.\n"
     ]
    },
    {
     "data": {
      "text/plain": [
       "True"
      ]
     },
     "execution_count": 28,
     "metadata": {},
     "output_type": "execute_result"
    }
   ],
   "execution_count": 28
  },
  {
   "cell_type": "markdown",
   "id": "b8ca3f93",
   "metadata": {
    "id": "b8ca3f93"
   },
   "source": [
    "Let's specify a Pydantic model with a few properties and their expected type in our schema."
   ]
  },
  {
   "cell_type": "code",
   "id": "39f3ce3e",
   "metadata": {
    "id": "39f3ce3e",
    "ExecuteTime": {
     "end_time": "2024-04-11T08:50:27.585662Z",
     "start_time": "2024-04-11T08:50:27.566073Z"
    }
   },
   "source": [
    "from langchain_core.prompts import ChatPromptTemplate\n",
    "from langchain_core.pydantic_v1 import BaseModel, Field\n",
    "from langchain_openai import ChatOpenAI\n",
    "from langchain_core.utils.function_calling import convert_to_openai_function\n",
    "from langchain.output_parsers.openai_functions import JsonOutputFunctionsParser\n",
    "from langchain.output_parsers.openai_functions import JsonKeyOutputFunctionsParser\n",
    "\n",
    "tagging_prompt = ChatPromptTemplate.from_template(\n",
    "    \"\"\"\n",
    "Extract the desired information from the following passage.\n",
    "\n",
    "Only extract the properties mentioned in the 'Classification' function.\n",
    "\n",
    "Passage:\n",
    "{input}\n",
    "\"\"\"\n",
    ")\n",
    "\n",
    "\n",
    "class Classification(BaseModel):\n",
    "    sentiment: str = Field(description=\"The sentiment of the text\")\n",
    "    aggressiveness: int = Field(\n",
    "        description=\"How aggressive the text is on a scale from 1 to 10\"\n",
    "    )\n",
    "    language: str = Field(description=\"The language the text is written in\")\n",
    "\n",
    "\n",
    "# LLM\n",
    "\n",
    "# tagging_functions = [convert_to_openai_function(Classification)]\n",
    "# llm = ChatOpenAI(temperature=0, model=\"gpt-3.5-turbo-0125\").bind(functions=tagging_functions,\n",
    "#                                                                  function_call={\"name\": \"Classification\"})\n",
    "\n",
    "#tagging_chain = tagging_prompt | llm | JsonOutputFunctionsParser()\n",
    "\n",
    "# If we only want to extract one field, we can use the JsonKeyOutputFunctionsParser\n",
    "# tagging_chain = tagging_prompt | llm | JsonKeyOutputFunctionsParser(key_name=\"language\")\n",
    "\n",
    "# Newer syntax, currently in Beta:\n",
    "llm = ChatOpenAI(temperature=0, model=\"gpt-3.5-turbo-0125\").with_structured_output(\n",
    "    Classification\n",
    ")\n",
    "\n",
    "tagging_chain = tagging_prompt | llm"
   ],
   "outputs": [],
   "execution_count": 29
  },
  {
   "cell_type": "code",
   "id": "5509b6a6",
   "metadata": {
    "id": "5509b6a6",
    "outputId": "b9aa35d8-fb7b-4e85-dfc7-bba558de56ee",
    "ExecuteTime": {
     "end_time": "2024-04-11T08:50:28.377392Z",
     "start_time": "2024-04-11T08:50:27.586418Z"
    }
   },
   "source": [
    "inp = \"Estoy increiblemente contento de haberte conocido! Creo que seremos muy buenos amigos!\"\n",
    "tagging_chain.invoke({\"input\": inp})"
   ],
   "outputs": [
    {
     "data": {
      "text/plain": [
       "Classification(sentiment='positive', aggressiveness=1, language='Spanish')"
      ]
     },
     "execution_count": 30,
     "metadata": {},
     "output_type": "execute_result"
    }
   ],
   "execution_count": 30
  },
  {
   "cell_type": "markdown",
   "id": "ff3cf30d",
   "metadata": {
    "id": "ff3cf30d"
   },
   "source": [
    "If we want JSON output, we can just call `.dict()`"
   ]
  },
  {
   "cell_type": "code",
   "id": "9154474c",
   "metadata": {
    "id": "9154474c",
    "outputId": "e4b5767d-ae7b-40b5-9c0f-b0845bea7ad7",
    "ExecuteTime": {
     "end_time": "2024-04-11T08:50:28.891615Z",
     "start_time": "2024-04-11T08:50:28.379863Z"
    }
   },
   "source": [
    "inp = \"Estoy muy enojado con vos! Te voy a dar tu merecido!\"\n",
    "res = tagging_chain.invoke({\"input\": inp})\n",
    "res.dict()"
   ],
   "outputs": [
    {
     "data": {
      "text/plain": [
       "{'sentiment': 'negative', 'aggressiveness': 8, 'language': 'Spanish'}"
      ]
     },
     "execution_count": 31,
     "metadata": {},
     "output_type": "execute_result"
    }
   ],
   "execution_count": 31
  },
  {
   "cell_type": "markdown",
   "id": "d921bb53",
   "metadata": {
    "id": "d921bb53"
   },
   "source": [
    "As we can see in the examples, it correctly interprets what we want.\n",
    "\n",
    "The results vary so that we may get, for example, sentiments in different languages ('positive', 'enojado' etc.).\n",
    "\n",
    "We will see how to control these results in the next section."
   ]
  },
  {
   "cell_type": "markdown",
   "id": "bebb2f83",
   "metadata": {
    "id": "bebb2f83"
   },
   "source": [
    "## Finer control\n",
    "\n",
    "Careful schema definition gives us more control over the model's output.\n",
    "\n",
    "Specifically, we can define:\n",
    "\n",
    "- possible values for each property\n",
    "- description to make sure that the model understands the property\n",
    "- required properties to be returned"
   ]
  },
  {
   "cell_type": "markdown",
   "id": "69ef0b9a",
   "metadata": {
    "id": "69ef0b9a"
   },
   "source": [
    "Let's redeclare our Pydantic model to control for each of the previously mentioned aspects using enums:"
   ]
  },
  {
   "cell_type": "code",
   "id": "6a5f7961",
   "metadata": {
    "id": "6a5f7961",
    "ExecuteTime": {
     "end_time": "2024-04-11T08:50:28.896539Z",
     "start_time": "2024-04-11T08:50:28.892875Z"
    }
   },
   "source": [
    "class Classification(BaseModel):\n",
    "    sentiment: str = Field(..., enum=[\"happy\", \"neutral\", \"sad\"])\n",
    "    aggressiveness: int = Field(\n",
    "        ...,\n",
    "        description=\"describes how aggressive the statement is, the higher the number the more aggressive\",\n",
    "        enum=[1, 2, 3, 4, 5],\n",
    "    )\n",
    "    language: str = Field(\n",
    "        ..., enum=[\"spanish\", \"english\", \"french\", \"german\", \"italian\"]\n",
    "    )"
   ],
   "outputs": [],
   "execution_count": 32
  },
  {
   "cell_type": "code",
   "id": "e5a5881f",
   "metadata": {
    "id": "e5a5881f",
    "ExecuteTime": {
     "end_time": "2024-04-11T08:50:28.918163Z",
     "start_time": "2024-04-11T08:50:28.897945Z"
    }
   },
   "source": [
    "tagging_prompt = ChatPromptTemplate.from_template(\n",
    "    \"\"\"\n",
    "Extract the desired information from the following passage.\n",
    "\n",
    "Only extract the properties mentioned in the 'Classification' function.\n",
    "\n",
    "Passage:\n",
    "{input}\n",
    "\"\"\"\n",
    ")\n",
    "\n",
    "llm = ChatOpenAI(temperature=0, model=\"gpt-3.5-turbo-0125\").with_structured_output(\n",
    "    Classification\n",
    ")\n",
    "\n",
    "chain = tagging_prompt | llm"
   ],
   "outputs": [],
   "execution_count": 33
  },
  {
   "cell_type": "markdown",
   "id": "5ded2332",
   "metadata": {
    "id": "5ded2332"
   },
   "source": [
    "Now the answers will be restricted in a way we expect!"
   ]
  },
  {
   "cell_type": "code",
   "id": "d9b9d53d",
   "metadata": {
    "id": "d9b9d53d",
    "outputId": "2a84f9c7-e0ea-46ee-874d-57eef7064141",
    "ExecuteTime": {
     "end_time": "2024-04-11T08:50:30.095151Z",
     "start_time": "2024-04-11T08:50:28.919201Z"
    }
   },
   "source": [
    "inp = \"Estoy increiblemente contento de haberte conocido! Creo que seremos muy buenos amigos!\"\n",
    "chain.invoke({\"input\": inp})"
   ],
   "outputs": [
    {
     "data": {
      "text/plain": [
       "Classification(sentiment='happy', aggressiveness=1, language='spanish')"
      ]
     },
     "execution_count": 34,
     "metadata": {},
     "output_type": "execute_result"
    }
   ],
   "execution_count": 34
  },
  {
   "cell_type": "code",
   "id": "1c12fa00",
   "metadata": {
    "id": "1c12fa00",
    "outputId": "7134578b-cf46-4353-a0ab-7a8951c337de",
    "ExecuteTime": {
     "end_time": "2024-04-11T08:50:30.999507Z",
     "start_time": "2024-04-11T08:50:30.096158Z"
    }
   },
   "source": [
    "inp = \"Estoy muy enojado con vos! Te voy a dar tu merecido!\"\n",
    "chain.invoke({\"input\": inp})"
   ],
   "outputs": [
    {
     "data": {
      "text/plain": [
       "Classification(sentiment='sad', aggressiveness=5, language='spanish')"
      ]
     },
     "execution_count": 35,
     "metadata": {},
     "output_type": "execute_result"
    }
   ],
   "execution_count": 35
  },
  {
   "cell_type": "code",
   "id": "0bdfcb05",
   "metadata": {
    "id": "0bdfcb05",
    "outputId": "69787124-d213-44d2-e8e6-0fdc1fc3da5a",
    "ExecuteTime": {
     "end_time": "2024-04-11T08:50:31.725112Z",
     "start_time": "2024-04-11T08:50:31.000664Z"
    }
   },
   "source": [
    "inp = \"Weather is ok here, I can go outside without much more than a coat\"\n",
    "chain.invoke({\"input\": inp})"
   ],
   "outputs": [
    {
     "data": {
      "text/plain": [
       "Classification(sentiment='neutral', aggressiveness=2, language='english')"
      ]
     },
     "execution_count": 36,
     "metadata": {},
     "output_type": "execute_result"
    }
   ],
   "execution_count": 36
  },
  {
   "cell_type": "markdown",
   "id": "cf6b7389",
   "metadata": {
    "id": "cf6b7389"
   },
   "source": [
    "The [LangSmith trace](https://smith.langchain.com/public/38294e04-33d8-4c5a-ae92-c2fe68be8332/r) lets us peek under the hood:\n",
    "\n",
    "![Image description](https://github.com/langchain-ai/langchain/blob/master/docs/static/img/tagging_trace.png?raw=1)"
   ]
  },
  {
   "cell_type": "markdown",
   "id": "29346d09",
   "metadata": {
    "id": "29346d09"
   },
   "source": [
    "### Going deeper\n",
    "\n",
    "* You can use the [metadata tagger](/docs/integrations/document_transformers/openai_metadata_tagger) document transformer to extract metadata from a LangChain `Document`.\n",
    "* This covers the same basic functionality as the tagging chain, only applied to a LangChain `Document`."
   ]
  }
 ],
 "metadata": {
  "kernelspec": {
   "display_name": "Python 3 (ipykernel)",
   "language": "python",
   "name": "python3"
  },
  "language_info": {
   "codemirror_mode": {
    "name": "ipython",
    "version": 3
   },
   "file_extension": ".py",
   "mimetype": "text/x-python",
   "name": "python",
   "nbconvert_exporter": "python",
   "pygments_lexer": "ipython3",
   "version": "3.10.5"
  },
  "colab": {
   "provenance": []
  }
 },
 "nbformat": 4,
 "nbformat_minor": 5
}
